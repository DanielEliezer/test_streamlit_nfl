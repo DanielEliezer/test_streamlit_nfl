{
 "metadata": {
  "language_info": {
   "codemirror_mode": {
    "name": "ipython",
    "version": 3
   },
   "file_extension": ".py",
   "mimetype": "text/x-python",
   "name": "python",
   "nbconvert_exporter": "python",
   "pygments_lexer": "ipython3",
   "version": "3.8.5"
  },
  "orig_nbformat": 2,
  "kernelspec": {
   "name": "python385jvsc74a57bd0b40c56f56c6fa75fca24b78f4d39085fd4b9dcb7ba20404ef2300290701e2c07",
   "display_name": "Python 3.8.5 64-bit (conda)"
  }
 },
 "nbformat": 4,
 "nbformat_minor": 2,
 "cells": [
  {
   "cell_type": "code",
   "execution_count": 8,
   "metadata": {},
   "outputs": [],
   "source": [
    "import pandas as pd\n",
    "import seaborn as sns\n",
    "import matplotlib.pyplot as plt\n",
    "import numpy as np"
   ]
  },
  {
   "cell_type": "code",
   "execution_count": 10,
   "metadata": {},
   "outputs": [],
   "source": [
    "plays = pd.read_csv(\"../plays.csv\")\n",
    "games = pd.read_csv(\"../games.csv\")"
   ]
  },
  {
   "cell_type": "code",
   "execution_count": 12,
   "metadata": {},
   "outputs": [
    {
     "output_type": "execute_result",
     "data": {
      "text/plain": [
       "    gameId  season  week  homeTeamId  visitorTeamId seasonType  \\\n",
       "65   26909    2004     1        3200           2200        REG   \n",
       "66   26914    2004     1        2700           2100        REG   \n",
       "67   26913    2004     1        2120           4400        REG   \n",
       "68   26915    2004     1        3300           4600        REG   \n",
       "69   26916    2004     1        3430            920        REG   \n",
       "\n",
       "    homeTeamFinalScore  visitingTeamFinalScore  winningTeam  total_pts  \n",
       "65                  27                      24         3200         51  \n",
       "66                   7                      17         2100         24  \n",
       "67                  20                      27         4400         47  \n",
       "68                   7                      21         4600         28  \n",
       "69                  31                      24         3430         55  "
      ],
      "text/html": "<div>\n<style scoped>\n    .dataframe tbody tr th:only-of-type {\n        vertical-align: middle;\n    }\n\n    .dataframe tbody tr th {\n        vertical-align: top;\n    }\n\n    .dataframe thead th {\n        text-align: right;\n    }\n</style>\n<table border=\"1\" class=\"dataframe\">\n  <thead>\n    <tr style=\"text-align: right;\">\n      <th></th>\n      <th>gameId</th>\n      <th>season</th>\n      <th>week</th>\n      <th>homeTeamId</th>\n      <th>visitorTeamId</th>\n      <th>seasonType</th>\n      <th>homeTeamFinalScore</th>\n      <th>visitingTeamFinalScore</th>\n      <th>winningTeam</th>\n      <th>total_pts</th>\n    </tr>\n  </thead>\n  <tbody>\n    <tr>\n      <th>65</th>\n      <td>26909</td>\n      <td>2004</td>\n      <td>1</td>\n      <td>3200</td>\n      <td>2200</td>\n      <td>REG</td>\n      <td>27</td>\n      <td>24</td>\n      <td>3200</td>\n      <td>51</td>\n    </tr>\n    <tr>\n      <th>66</th>\n      <td>26914</td>\n      <td>2004</td>\n      <td>1</td>\n      <td>2700</td>\n      <td>2100</td>\n      <td>REG</td>\n      <td>7</td>\n      <td>17</td>\n      <td>2100</td>\n      <td>24</td>\n    </tr>\n    <tr>\n      <th>67</th>\n      <td>26913</td>\n      <td>2004</td>\n      <td>1</td>\n      <td>2120</td>\n      <td>4400</td>\n      <td>REG</td>\n      <td>20</td>\n      <td>27</td>\n      <td>4400</td>\n      <td>47</td>\n    </tr>\n    <tr>\n      <th>68</th>\n      <td>26915</td>\n      <td>2004</td>\n      <td>1</td>\n      <td>3300</td>\n      <td>4600</td>\n      <td>REG</td>\n      <td>7</td>\n      <td>21</td>\n      <td>4600</td>\n      <td>28</td>\n    </tr>\n    <tr>\n      <th>69</th>\n      <td>26916</td>\n      <td>2004</td>\n      <td>1</td>\n      <td>3430</td>\n      <td>920</td>\n      <td>REG</td>\n      <td>31</td>\n      <td>24</td>\n      <td>3430</td>\n      <td>55</td>\n    </tr>\n  </tbody>\n</table>\n</div>"
     },
     "metadata": {},
     "execution_count": 12
    }
   ],
   "source": [
    "games = games[games['seasonType'] == 'REG']\n",
    "games = games.drop(['gameDate','gameTimeEastern', 'gameTimeLocal', 'weekNameAbbr', 'siteId','homeTeamDistance','visitingTeamDistance'], axis = 1)\n",
    "games['total_pts'] = games['homeTeamFinalScore'] + games['visitingTeamFinalScore'] \n",
    "games.head()"
   ]
  },
  {
   "cell_type": "code",
   "execution_count": 14,
   "metadata": {},
   "outputs": [
    {
     "output_type": "execute_result",
     "data": {
      "text/plain": [
       "   playId  gameId  possessionTeamId  nonpossessionTeamId playType  \\\n",
       "1   30299   26909              3200                 2200     pass   \n",
       "2   30300   26909              3200                 2200     pass   \n",
       "3   30301   26909              3200                 2200     pass   \n",
       "4   30302   26909              3200                 2200     pass   \n",
       "5   30303   26909              3200                 2200     pass   \n",
       "\n",
       "          playType2  distanceToGoalPre  netYards  visitingScorePre  \\\n",
       "1    pass, complete               63.0        19                 0   \n",
       "2    pass, complete               44.0        14                 0   \n",
       "3  pass, incomplete               30.0         0                 0   \n",
       "4    pass, complete               30.0         2                 0   \n",
       "5    pass, complete               28.0        14                 0   \n",
       "\n",
       "   visitingScorePost  homeScorePre  homeScorePost  distance  offensiveYards  \\\n",
       "1                  0             0              0        10              19   \n",
       "2                  0             0              0        10              14   \n",
       "3                  0             0              0        10               0   \n",
       "4                  0             0              0        10               2   \n",
       "5                  0             0              0         8              14   \n",
       "\n",
       "   distanceToGoalPost  pontuacao  \n",
       "1                44.0          0  \n",
       "2                30.0          0  \n",
       "3                30.0          0  \n",
       "4                28.0          0  \n",
       "5                14.0          0  "
      ],
      "text/html": "<div>\n<style scoped>\n    .dataframe tbody tr th:only-of-type {\n        vertical-align: middle;\n    }\n\n    .dataframe tbody tr th {\n        vertical-align: top;\n    }\n\n    .dataframe thead th {\n        text-align: right;\n    }\n</style>\n<table border=\"1\" class=\"dataframe\">\n  <thead>\n    <tr style=\"text-align: right;\">\n      <th></th>\n      <th>playId</th>\n      <th>gameId</th>\n      <th>possessionTeamId</th>\n      <th>nonpossessionTeamId</th>\n      <th>playType</th>\n      <th>playType2</th>\n      <th>distanceToGoalPre</th>\n      <th>netYards</th>\n      <th>visitingScorePre</th>\n      <th>visitingScorePost</th>\n      <th>homeScorePre</th>\n      <th>homeScorePost</th>\n      <th>distance</th>\n      <th>offensiveYards</th>\n      <th>distanceToGoalPost</th>\n      <th>pontuacao</th>\n    </tr>\n  </thead>\n  <tbody>\n    <tr>\n      <th>1</th>\n      <td>30299</td>\n      <td>26909</td>\n      <td>3200</td>\n      <td>2200</td>\n      <td>pass</td>\n      <td>pass, complete</td>\n      <td>63.0</td>\n      <td>19</td>\n      <td>0</td>\n      <td>0</td>\n      <td>0</td>\n      <td>0</td>\n      <td>10</td>\n      <td>19</td>\n      <td>44.0</td>\n      <td>0</td>\n    </tr>\n    <tr>\n      <th>2</th>\n      <td>30300</td>\n      <td>26909</td>\n      <td>3200</td>\n      <td>2200</td>\n      <td>pass</td>\n      <td>pass, complete</td>\n      <td>44.0</td>\n      <td>14</td>\n      <td>0</td>\n      <td>0</td>\n      <td>0</td>\n      <td>0</td>\n      <td>10</td>\n      <td>14</td>\n      <td>30.0</td>\n      <td>0</td>\n    </tr>\n    <tr>\n      <th>3</th>\n      <td>30301</td>\n      <td>26909</td>\n      <td>3200</td>\n      <td>2200</td>\n      <td>pass</td>\n      <td>pass, incomplete</td>\n      <td>30.0</td>\n      <td>0</td>\n      <td>0</td>\n      <td>0</td>\n      <td>0</td>\n      <td>0</td>\n      <td>10</td>\n      <td>0</td>\n      <td>30.0</td>\n      <td>0</td>\n    </tr>\n    <tr>\n      <th>4</th>\n      <td>30302</td>\n      <td>26909</td>\n      <td>3200</td>\n      <td>2200</td>\n      <td>pass</td>\n      <td>pass, complete</td>\n      <td>30.0</td>\n      <td>2</td>\n      <td>0</td>\n      <td>0</td>\n      <td>0</td>\n      <td>0</td>\n      <td>10</td>\n      <td>2</td>\n      <td>28.0</td>\n      <td>0</td>\n    </tr>\n    <tr>\n      <th>5</th>\n      <td>30303</td>\n      <td>26909</td>\n      <td>3200</td>\n      <td>2200</td>\n      <td>pass</td>\n      <td>pass, complete</td>\n      <td>28.0</td>\n      <td>14</td>\n      <td>0</td>\n      <td>0</td>\n      <td>0</td>\n      <td>0</td>\n      <td>8</td>\n      <td>14</td>\n      <td>14.0</td>\n      <td>0</td>\n    </tr>\n  </tbody>\n</table>\n</div>"
     },
     "metadata": {},
     "execution_count": 14
    }
   ],
   "source": [
    "plays = plays[plays['playType'].isin(['pass', 'field goal', 'rush', 'xp'])]\n",
    "plays = plays[['playId','gameId','possessionTeamId','nonpossessionTeamId','playType','playType2','distanceToGoalPre','netYards','visitingScorePre','visitingScorePost','homeScorePre', 'homeScorePost','distance', 'offensiveYards','distanceToGoalPost']]\n",
    "plays['pontuacao'] = plays['visitingScorePost'] - plays['visitingScorePre'] + plays['homeScorePost'] - plays['homeScorePre']\n",
    "plays.head()"
   ]
  },
  {
   "cell_type": "code",
   "execution_count": 16,
   "metadata": {},
   "outputs": [
    {
     "output_type": "execute_result",
     "data": {
      "text/plain": [
       "   playId  gameId  possessionTeamId  nonpossessionTeamId playType  \\\n",
       "0   30299   26909              3200                 2200     pass   \n",
       "1   30300   26909              3200                 2200     pass   \n",
       "2   30301   26909              3200                 2200     pass   \n",
       "3   30302   26909              3200                 2200     pass   \n",
       "4   30303   26909              3200                 2200     pass   \n",
       "\n",
       "          playType2  distanceToGoalPre  netYards  visitingScorePre  \\\n",
       "0    pass, complete               63.0        19                 0   \n",
       "1    pass, complete               44.0        14                 0   \n",
       "2  pass, incomplete               30.0         0                 0   \n",
       "3    pass, complete               30.0         2                 0   \n",
       "4    pass, complete               28.0        14                 0   \n",
       "\n",
       "   visitingScorePost  ...  pontuacao  season  week  homeTeamId  visitorTeamId  \\\n",
       "0                  0  ...          0    2004     1        3200           2200   \n",
       "1                  0  ...          0    2004     1        3200           2200   \n",
       "2                  0  ...          0    2004     1        3200           2200   \n",
       "3                  0  ...          0    2004     1        3200           2200   \n",
       "4                  0  ...          0    2004     1        3200           2200   \n",
       "\n",
       "   seasonType  homeTeamFinalScore  visitingTeamFinalScore  winningTeam  \\\n",
       "0         REG                  27                      24         3200   \n",
       "1         REG                  27                      24         3200   \n",
       "2         REG                  27                      24         3200   \n",
       "3         REG                  27                      24         3200   \n",
       "4         REG                  27                      24         3200   \n",
       "\n",
       "   total_pts  \n",
       "0         51  \n",
       "1         51  \n",
       "2         51  \n",
       "3         51  \n",
       "4         51  \n",
       "\n",
       "[5 rows x 25 columns]"
      ],
      "text/html": "<div>\n<style scoped>\n    .dataframe tbody tr th:only-of-type {\n        vertical-align: middle;\n    }\n\n    .dataframe tbody tr th {\n        vertical-align: top;\n    }\n\n    .dataframe thead th {\n        text-align: right;\n    }\n</style>\n<table border=\"1\" class=\"dataframe\">\n  <thead>\n    <tr style=\"text-align: right;\">\n      <th></th>\n      <th>playId</th>\n      <th>gameId</th>\n      <th>possessionTeamId</th>\n      <th>nonpossessionTeamId</th>\n      <th>playType</th>\n      <th>playType2</th>\n      <th>distanceToGoalPre</th>\n      <th>netYards</th>\n      <th>visitingScorePre</th>\n      <th>visitingScorePost</th>\n      <th>...</th>\n      <th>pontuacao</th>\n      <th>season</th>\n      <th>week</th>\n      <th>homeTeamId</th>\n      <th>visitorTeamId</th>\n      <th>seasonType</th>\n      <th>homeTeamFinalScore</th>\n      <th>visitingTeamFinalScore</th>\n      <th>winningTeam</th>\n      <th>total_pts</th>\n    </tr>\n  </thead>\n  <tbody>\n    <tr>\n      <th>0</th>\n      <td>30299</td>\n      <td>26909</td>\n      <td>3200</td>\n      <td>2200</td>\n      <td>pass</td>\n      <td>pass, complete</td>\n      <td>63.0</td>\n      <td>19</td>\n      <td>0</td>\n      <td>0</td>\n      <td>...</td>\n      <td>0</td>\n      <td>2004</td>\n      <td>1</td>\n      <td>3200</td>\n      <td>2200</td>\n      <td>REG</td>\n      <td>27</td>\n      <td>24</td>\n      <td>3200</td>\n      <td>51</td>\n    </tr>\n    <tr>\n      <th>1</th>\n      <td>30300</td>\n      <td>26909</td>\n      <td>3200</td>\n      <td>2200</td>\n      <td>pass</td>\n      <td>pass, complete</td>\n      <td>44.0</td>\n      <td>14</td>\n      <td>0</td>\n      <td>0</td>\n      <td>...</td>\n      <td>0</td>\n      <td>2004</td>\n      <td>1</td>\n      <td>3200</td>\n      <td>2200</td>\n      <td>REG</td>\n      <td>27</td>\n      <td>24</td>\n      <td>3200</td>\n      <td>51</td>\n    </tr>\n    <tr>\n      <th>2</th>\n      <td>30301</td>\n      <td>26909</td>\n      <td>3200</td>\n      <td>2200</td>\n      <td>pass</td>\n      <td>pass, incomplete</td>\n      <td>30.0</td>\n      <td>0</td>\n      <td>0</td>\n      <td>0</td>\n      <td>...</td>\n      <td>0</td>\n      <td>2004</td>\n      <td>1</td>\n      <td>3200</td>\n      <td>2200</td>\n      <td>REG</td>\n      <td>27</td>\n      <td>24</td>\n      <td>3200</td>\n      <td>51</td>\n    </tr>\n    <tr>\n      <th>3</th>\n      <td>30302</td>\n      <td>26909</td>\n      <td>3200</td>\n      <td>2200</td>\n      <td>pass</td>\n      <td>pass, complete</td>\n      <td>30.0</td>\n      <td>2</td>\n      <td>0</td>\n      <td>0</td>\n      <td>...</td>\n      <td>0</td>\n      <td>2004</td>\n      <td>1</td>\n      <td>3200</td>\n      <td>2200</td>\n      <td>REG</td>\n      <td>27</td>\n      <td>24</td>\n      <td>3200</td>\n      <td>51</td>\n    </tr>\n    <tr>\n      <th>4</th>\n      <td>30303</td>\n      <td>26909</td>\n      <td>3200</td>\n      <td>2200</td>\n      <td>pass</td>\n      <td>pass, complete</td>\n      <td>28.0</td>\n      <td>14</td>\n      <td>0</td>\n      <td>0</td>\n      <td>...</td>\n      <td>0</td>\n      <td>2004</td>\n      <td>1</td>\n      <td>3200</td>\n      <td>2200</td>\n      <td>REG</td>\n      <td>27</td>\n      <td>24</td>\n      <td>3200</td>\n      <td>51</td>\n    </tr>\n  </tbody>\n</table>\n<p>5 rows × 25 columns</p>\n</div>"
     },
     "metadata": {},
     "execution_count": 16
    }
   ],
   "source": [
    "df = plays.merge(games, on = 'gameId', how = 'inner')\n",
    "df.head()"
   ]
  },
  {
   "cell_type": "code",
   "execution_count": 18,
   "metadata": {},
   "outputs": [
    {
     "output_type": "execute_result",
     "data": {
      "text/plain": [
       "     season  teamId  pass  rush\n",
       "0      2004     200  2412  2688\n",
       "1      2004     325  2312  2081\n",
       "2      2004     610  2830  1869\n",
       "3      2004     750  3643  1590\n",
       "4      2004     810  2192  1630\n",
       "..      ...     ...   ...   ...\n",
       "507    2019    4400  4628  1503\n",
       "508    2019    4500  3918  2402\n",
       "509    2019    4600  3952  2305\n",
       "510    2019    4900  4921  1597\n",
       "511    2019    5110  2856  1653\n",
       "\n",
       "[512 rows x 4 columns]"
      ],
      "text/html": "<div>\n<style scoped>\n    .dataframe tbody tr th:only-of-type {\n        vertical-align: middle;\n    }\n\n    .dataframe tbody tr th {\n        vertical-align: top;\n    }\n\n    .dataframe thead th {\n        text-align: right;\n    }\n</style>\n<table border=\"1\" class=\"dataframe\">\n  <thead>\n    <tr style=\"text-align: right;\">\n      <th></th>\n      <th>season</th>\n      <th>teamId</th>\n      <th>pass</th>\n      <th>rush</th>\n    </tr>\n  </thead>\n  <tbody>\n    <tr>\n      <th>0</th>\n      <td>2004</td>\n      <td>200</td>\n      <td>2412</td>\n      <td>2688</td>\n    </tr>\n    <tr>\n      <th>1</th>\n      <td>2004</td>\n      <td>325</td>\n      <td>2312</td>\n      <td>2081</td>\n    </tr>\n    <tr>\n      <th>2</th>\n      <td>2004</td>\n      <td>610</td>\n      <td>2830</td>\n      <td>1869</td>\n    </tr>\n    <tr>\n      <th>3</th>\n      <td>2004</td>\n      <td>750</td>\n      <td>3643</td>\n      <td>1590</td>\n    </tr>\n    <tr>\n      <th>4</th>\n      <td>2004</td>\n      <td>810</td>\n      <td>2192</td>\n      <td>1630</td>\n    </tr>\n    <tr>\n      <th>...</th>\n      <td>...</td>\n      <td>...</td>\n      <td>...</td>\n      <td>...</td>\n    </tr>\n    <tr>\n      <th>507</th>\n      <td>2019</td>\n      <td>4400</td>\n      <td>4628</td>\n      <td>1503</td>\n    </tr>\n    <tr>\n      <th>508</th>\n      <td>2019</td>\n      <td>4500</td>\n      <td>3918</td>\n      <td>2402</td>\n    </tr>\n    <tr>\n      <th>509</th>\n      <td>2019</td>\n      <td>4600</td>\n      <td>3952</td>\n      <td>2305</td>\n    </tr>\n    <tr>\n      <th>510</th>\n      <td>2019</td>\n      <td>4900</td>\n      <td>4921</td>\n      <td>1597</td>\n    </tr>\n    <tr>\n      <th>511</th>\n      <td>2019</td>\n      <td>5110</td>\n      <td>2856</td>\n      <td>1653</td>\n    </tr>\n  </tbody>\n</table>\n<p>512 rows × 4 columns</p>\n</div>"
     },
     "metadata": {},
     "execution_count": 18
    }
   ],
   "source": [
    "ataque1 = pd.DataFrame(df[df['playType'].isin(['rush', 'pass'])].groupby(['season', 'possessionTeamId', 'playType']).sum()['offensiveYards']).reset_index()\n",
    "ataque1 = ataque1.pivot(index=[\"season\", \"possessionTeamId\"], columns=[\"playType\"],values=\"offensiveYards\").reset_index()\n",
    "ataque1.columns = ['season', 'teamId', 'pass', 'rush']\n",
    "ataque1"
   ]
  },
  {
   "cell_type": "code",
   "execution_count": 20,
   "metadata": {},
   "outputs": [
    {
     "output_type": "execute_result",
     "data": {
      "text/plain": [
       "     season  teamId  points\n",
       "0      2004     200     312\n",
       "1      2004     325     275\n",
       "2      2004     610     351\n",
       "3      2004     750     351\n",
       "4      2004     810     207\n",
       "..      ...     ...     ...\n",
       "507    2019    4400     341\n",
       "508    2019    4500     459\n",
       "509    2019    4600     415\n",
       "510    2019    4900     456\n",
       "511    2019    5110     264\n",
       "\n",
       "[512 rows x 3 columns]"
      ],
      "text/html": "<div>\n<style scoped>\n    .dataframe tbody tr th:only-of-type {\n        vertical-align: middle;\n    }\n\n    .dataframe tbody tr th {\n        vertical-align: top;\n    }\n\n    .dataframe thead th {\n        text-align: right;\n    }\n</style>\n<table border=\"1\" class=\"dataframe\">\n  <thead>\n    <tr style=\"text-align: right;\">\n      <th></th>\n      <th>season</th>\n      <th>teamId</th>\n      <th>points</th>\n    </tr>\n  </thead>\n  <tbody>\n    <tr>\n      <th>0</th>\n      <td>2004</td>\n      <td>200</td>\n      <td>312</td>\n    </tr>\n    <tr>\n      <th>1</th>\n      <td>2004</td>\n      <td>325</td>\n      <td>275</td>\n    </tr>\n    <tr>\n      <th>2</th>\n      <td>2004</td>\n      <td>610</td>\n      <td>351</td>\n    </tr>\n    <tr>\n      <th>3</th>\n      <td>2004</td>\n      <td>750</td>\n      <td>351</td>\n    </tr>\n    <tr>\n      <th>4</th>\n      <td>2004</td>\n      <td>810</td>\n      <td>207</td>\n    </tr>\n    <tr>\n      <th>...</th>\n      <td>...</td>\n      <td>...</td>\n      <td>...</td>\n    </tr>\n    <tr>\n      <th>507</th>\n      <td>2019</td>\n      <td>4400</td>\n      <td>341</td>\n    </tr>\n    <tr>\n      <th>508</th>\n      <td>2019</td>\n      <td>4500</td>\n      <td>459</td>\n    </tr>\n    <tr>\n      <th>509</th>\n      <td>2019</td>\n      <td>4600</td>\n      <td>415</td>\n    </tr>\n    <tr>\n      <th>510</th>\n      <td>2019</td>\n      <td>4900</td>\n      <td>456</td>\n    </tr>\n    <tr>\n      <th>511</th>\n      <td>2019</td>\n      <td>5110</td>\n      <td>264</td>\n    </tr>\n  </tbody>\n</table>\n<p>512 rows × 3 columns</p>\n</div>"
     },
     "metadata": {},
     "execution_count": 20
    }
   ],
   "source": [
    "ataque2 = pd.DataFrame(df.groupby(['season', 'possessionTeamId']).sum()['pontuacao']).reset_index()\n",
    "ataque2.columns = ['season', 'teamId', 'points']\n",
    "ataque2"
   ]
  },
  {
   "cell_type": "code",
   "execution_count": 22,
   "metadata": {},
   "outputs": [
    {
     "output_type": "execute_result",
     "data": {
      "text/plain": [
       "     season  teamId  pass_against  rush_against\n",
       "0      2004     200          3526          1688\n",
       "1      2004     325          3121          1692\n",
       "2      2004     610          2624          1614\n",
       "3      2004     750          3478          1921\n",
       "4      2004     810          3335          2063\n",
       "..      ...     ...           ...           ...\n",
       "507    2019    4400          3298          1946\n",
       "508    2019    4500          2817          1884\n",
       "509    2019    4600          4358          1984\n",
       "510    2019    4900          4420          1283\n",
       "511    2019    5110          3859          2388\n",
       "\n",
       "[512 rows x 4 columns]"
      ],
      "text/html": "<div>\n<style scoped>\n    .dataframe tbody tr th:only-of-type {\n        vertical-align: middle;\n    }\n\n    .dataframe tbody tr th {\n        vertical-align: top;\n    }\n\n    .dataframe thead th {\n        text-align: right;\n    }\n</style>\n<table border=\"1\" class=\"dataframe\">\n  <thead>\n    <tr style=\"text-align: right;\">\n      <th></th>\n      <th>season</th>\n      <th>teamId</th>\n      <th>pass_against</th>\n      <th>rush_against</th>\n    </tr>\n  </thead>\n  <tbody>\n    <tr>\n      <th>0</th>\n      <td>2004</td>\n      <td>200</td>\n      <td>3526</td>\n      <td>1688</td>\n    </tr>\n    <tr>\n      <th>1</th>\n      <td>2004</td>\n      <td>325</td>\n      <td>3121</td>\n      <td>1692</td>\n    </tr>\n    <tr>\n      <th>2</th>\n      <td>2004</td>\n      <td>610</td>\n      <td>2624</td>\n      <td>1614</td>\n    </tr>\n    <tr>\n      <th>3</th>\n      <td>2004</td>\n      <td>750</td>\n      <td>3478</td>\n      <td>1921</td>\n    </tr>\n    <tr>\n      <th>4</th>\n      <td>2004</td>\n      <td>810</td>\n      <td>3335</td>\n      <td>2063</td>\n    </tr>\n    <tr>\n      <th>...</th>\n      <td>...</td>\n      <td>...</td>\n      <td>...</td>\n      <td>...</td>\n    </tr>\n    <tr>\n      <th>507</th>\n      <td>2019</td>\n      <td>4400</td>\n      <td>3298</td>\n      <td>1946</td>\n    </tr>\n    <tr>\n      <th>508</th>\n      <td>2019</td>\n      <td>4500</td>\n      <td>2817</td>\n      <td>1884</td>\n    </tr>\n    <tr>\n      <th>509</th>\n      <td>2019</td>\n      <td>4600</td>\n      <td>4358</td>\n      <td>1984</td>\n    </tr>\n    <tr>\n      <th>510</th>\n      <td>2019</td>\n      <td>4900</td>\n      <td>4420</td>\n      <td>1283</td>\n    </tr>\n    <tr>\n      <th>511</th>\n      <td>2019</td>\n      <td>5110</td>\n      <td>3859</td>\n      <td>2388</td>\n    </tr>\n  </tbody>\n</table>\n<p>512 rows × 4 columns</p>\n</div>"
     },
     "metadata": {},
     "execution_count": 22
    }
   ],
   "source": [
    "defesa1 = pd.DataFrame(df[df['playType'].isin(['rush', 'pass'])].groupby(['season', 'nonpossessionTeamId', 'playType']).sum()['offensiveYards']).reset_index()\n",
    "defesa1 = defesa1.pivot(index=[\"season\", \"nonpossessionTeamId\"], columns=[\"playType\"],values=\"offensiveYards\").reset_index()\n",
    "defesa1.columns = ['season', 'teamId', 'pass_against', 'rush_against']\n",
    "defesa1"
   ]
  },
  {
   "cell_type": "code",
   "execution_count": 24,
   "metadata": {},
   "outputs": [
    {
     "output_type": "execute_result",
     "data": {
      "text/plain": [
       "     season  teamId  points_against\n",
       "0      2004     200             351\n",
       "1      2004     325             282\n",
       "2      2004     610             290\n",
       "3      2004     750             339\n",
       "4      2004     810             347\n",
       "..      ...     ...             ...\n",
       "507    2019    4400             317\n",
       "508    2019    4500             314\n",
       "509    2019    4600             374\n",
       "510    2019    4900             431\n",
       "511    2019    5110             402\n",
       "\n",
       "[512 rows x 3 columns]"
      ],
      "text/html": "<div>\n<style scoped>\n    .dataframe tbody tr th:only-of-type {\n        vertical-align: middle;\n    }\n\n    .dataframe tbody tr th {\n        vertical-align: top;\n    }\n\n    .dataframe thead th {\n        text-align: right;\n    }\n</style>\n<table border=\"1\" class=\"dataframe\">\n  <thead>\n    <tr style=\"text-align: right;\">\n      <th></th>\n      <th>season</th>\n      <th>teamId</th>\n      <th>points_against</th>\n    </tr>\n  </thead>\n  <tbody>\n    <tr>\n      <th>0</th>\n      <td>2004</td>\n      <td>200</td>\n      <td>351</td>\n    </tr>\n    <tr>\n      <th>1</th>\n      <td>2004</td>\n      <td>325</td>\n      <td>282</td>\n    </tr>\n    <tr>\n      <th>2</th>\n      <td>2004</td>\n      <td>610</td>\n      <td>290</td>\n    </tr>\n    <tr>\n      <th>3</th>\n      <td>2004</td>\n      <td>750</td>\n      <td>339</td>\n    </tr>\n    <tr>\n      <th>4</th>\n      <td>2004</td>\n      <td>810</td>\n      <td>347</td>\n    </tr>\n    <tr>\n      <th>...</th>\n      <td>...</td>\n      <td>...</td>\n      <td>...</td>\n    </tr>\n    <tr>\n      <th>507</th>\n      <td>2019</td>\n      <td>4400</td>\n      <td>317</td>\n    </tr>\n    <tr>\n      <th>508</th>\n      <td>2019</td>\n      <td>4500</td>\n      <td>314</td>\n    </tr>\n    <tr>\n      <th>509</th>\n      <td>2019</td>\n      <td>4600</td>\n      <td>374</td>\n    </tr>\n    <tr>\n      <th>510</th>\n      <td>2019</td>\n      <td>4900</td>\n      <td>431</td>\n    </tr>\n    <tr>\n      <th>511</th>\n      <td>2019</td>\n      <td>5110</td>\n      <td>402</td>\n    </tr>\n  </tbody>\n</table>\n<p>512 rows × 3 columns</p>\n</div>"
     },
     "metadata": {},
     "execution_count": 24
    }
   ],
   "source": [
    "defesa2 = pd.DataFrame(df.groupby(['season', 'nonpossessionTeamId']).sum()['pontuacao']).reset_index()\n",
    "defesa2.columns = ['season', 'teamId', 'points_against']\n",
    "defesa2"
   ]
  },
  {
   "cell_type": "code",
   "execution_count": 26,
   "metadata": {},
   "outputs": [
    {
     "output_type": "execute_result",
     "data": {
      "text/plain": [
       "     season  teamId  pass  rush  points  pass_against  rush_against  \\\n",
       "0      2004     200  2412  2688     312          3526          1688   \n",
       "1      2004     325  2312  2081     275          3121          1692   \n",
       "2      2004     610  2830  1869     351          2624          1614   \n",
       "3      2004     750  3643  1590     351          3478          1921   \n",
       "4      2004     810  2192  1630     207          3335          2063   \n",
       "..      ...     ...   ...   ...     ...           ...           ...   \n",
       "507    2019    4400  4628  1503     341          3298          1946   \n",
       "508    2019    4500  3918  2402     459          2817          1884   \n",
       "509    2019    4600  3952  2305     415          4358          1984   \n",
       "510    2019    4900  4921  1597     456          4420          1283   \n",
       "511    2019    5110  2856  1653     264          3859          2388   \n",
       "\n",
       "     points_against  \n",
       "0               351  \n",
       "1               282  \n",
       "2               290  \n",
       "3               339  \n",
       "4               347  \n",
       "..              ...  \n",
       "507             317  \n",
       "508             314  \n",
       "509             374  \n",
       "510             431  \n",
       "511             402  \n",
       "\n",
       "[512 rows x 8 columns]"
      ],
      "text/html": "<div>\n<style scoped>\n    .dataframe tbody tr th:only-of-type {\n        vertical-align: middle;\n    }\n\n    .dataframe tbody tr th {\n        vertical-align: top;\n    }\n\n    .dataframe thead th {\n        text-align: right;\n    }\n</style>\n<table border=\"1\" class=\"dataframe\">\n  <thead>\n    <tr style=\"text-align: right;\">\n      <th></th>\n      <th>season</th>\n      <th>teamId</th>\n      <th>pass</th>\n      <th>rush</th>\n      <th>points</th>\n      <th>pass_against</th>\n      <th>rush_against</th>\n      <th>points_against</th>\n    </tr>\n  </thead>\n  <tbody>\n    <tr>\n      <th>0</th>\n      <td>2004</td>\n      <td>200</td>\n      <td>2412</td>\n      <td>2688</td>\n      <td>312</td>\n      <td>3526</td>\n      <td>1688</td>\n      <td>351</td>\n    </tr>\n    <tr>\n      <th>1</th>\n      <td>2004</td>\n      <td>325</td>\n      <td>2312</td>\n      <td>2081</td>\n      <td>275</td>\n      <td>3121</td>\n      <td>1692</td>\n      <td>282</td>\n    </tr>\n    <tr>\n      <th>2</th>\n      <td>2004</td>\n      <td>610</td>\n      <td>2830</td>\n      <td>1869</td>\n      <td>351</td>\n      <td>2624</td>\n      <td>1614</td>\n      <td>290</td>\n    </tr>\n    <tr>\n      <th>3</th>\n      <td>2004</td>\n      <td>750</td>\n      <td>3643</td>\n      <td>1590</td>\n      <td>351</td>\n      <td>3478</td>\n      <td>1921</td>\n      <td>339</td>\n    </tr>\n    <tr>\n      <th>4</th>\n      <td>2004</td>\n      <td>810</td>\n      <td>2192</td>\n      <td>1630</td>\n      <td>207</td>\n      <td>3335</td>\n      <td>2063</td>\n      <td>347</td>\n    </tr>\n    <tr>\n      <th>...</th>\n      <td>...</td>\n      <td>...</td>\n      <td>...</td>\n      <td>...</td>\n      <td>...</td>\n      <td>...</td>\n      <td>...</td>\n      <td>...</td>\n    </tr>\n    <tr>\n      <th>507</th>\n      <td>2019</td>\n      <td>4400</td>\n      <td>4628</td>\n      <td>1503</td>\n      <td>341</td>\n      <td>3298</td>\n      <td>1946</td>\n      <td>317</td>\n    </tr>\n    <tr>\n      <th>508</th>\n      <td>2019</td>\n      <td>4500</td>\n      <td>3918</td>\n      <td>2402</td>\n      <td>459</td>\n      <td>2817</td>\n      <td>1884</td>\n      <td>314</td>\n    </tr>\n    <tr>\n      <th>509</th>\n      <td>2019</td>\n      <td>4600</td>\n      <td>3952</td>\n      <td>2305</td>\n      <td>415</td>\n      <td>4358</td>\n      <td>1984</td>\n      <td>374</td>\n    </tr>\n    <tr>\n      <th>510</th>\n      <td>2019</td>\n      <td>4900</td>\n      <td>4921</td>\n      <td>1597</td>\n      <td>456</td>\n      <td>4420</td>\n      <td>1283</td>\n      <td>431</td>\n    </tr>\n    <tr>\n      <th>511</th>\n      <td>2019</td>\n      <td>5110</td>\n      <td>2856</td>\n      <td>1653</td>\n      <td>264</td>\n      <td>3859</td>\n      <td>2388</td>\n      <td>402</td>\n    </tr>\n  </tbody>\n</table>\n<p>512 rows × 8 columns</p>\n</div>"
     },
     "metadata": {},
     "execution_count": 26
    }
   ],
   "source": [
    "dfzera = ataque1.merge(ataque2, how = 'inner', on = ['teamId','season'])\n",
    "dfzera = dfzera.merge(defesa1, how = 'inner', on = ['teamId','season'])\n",
    "dfzera = dfzera.merge(defesa2, how = 'inner', on = ['teamId','season'])\n",
    "\n",
    "dfzera\n"
   ]
  },
  {
   "cell_type": "code",
   "execution_count": 28,
   "metadata": {},
   "outputs": [
    {
     "output_type": "execute_result",
     "data": {
      "text/plain": [
       "       gameId  season  possessionTeamId  nonpossessionTeamId    playType  \\\n",
       "22738   56288    2014              3900                 2200          xp   \n",
       "8836    29579    2008              2310                 1400  field goal   \n",
       "11750   54608    2009              4400                 3700          xp   \n",
       "26083   56752    2015              2200                 2100  field goal   \n",
       "31352   57656    2018              1200                 2250          xp   \n",
       "\n",
       "       distanceToGoalPre  pontuacao  conversao  distancia_aprox  \n",
       "22738               20.0          1       True             20.0  \n",
       "8836                21.0          3       True             20.0  \n",
       "11750               20.0          1       True             20.0  \n",
       "26083               52.0          3       True             50.0  \n",
       "31352               33.0          1       True             30.0  "
      ],
      "text/html": "<div>\n<style scoped>\n    .dataframe tbody tr th:only-of-type {\n        vertical-align: middle;\n    }\n\n    .dataframe tbody tr th {\n        vertical-align: top;\n    }\n\n    .dataframe thead th {\n        text-align: right;\n    }\n</style>\n<table border=\"1\" class=\"dataframe\">\n  <thead>\n    <tr style=\"text-align: right;\">\n      <th></th>\n      <th>gameId</th>\n      <th>season</th>\n      <th>possessionTeamId</th>\n      <th>nonpossessionTeamId</th>\n      <th>playType</th>\n      <th>distanceToGoalPre</th>\n      <th>pontuacao</th>\n      <th>conversao</th>\n      <th>distancia_aprox</th>\n    </tr>\n  </thead>\n  <tbody>\n    <tr>\n      <th>22738</th>\n      <td>56288</td>\n      <td>2014</td>\n      <td>3900</td>\n      <td>2200</td>\n      <td>xp</td>\n      <td>20.0</td>\n      <td>1</td>\n      <td>True</td>\n      <td>20.0</td>\n    </tr>\n    <tr>\n      <th>8836</th>\n      <td>29579</td>\n      <td>2008</td>\n      <td>2310</td>\n      <td>1400</td>\n      <td>field goal</td>\n      <td>21.0</td>\n      <td>3</td>\n      <td>True</td>\n      <td>20.0</td>\n    </tr>\n    <tr>\n      <th>11750</th>\n      <td>54608</td>\n      <td>2009</td>\n      <td>4400</td>\n      <td>3700</td>\n      <td>xp</td>\n      <td>20.0</td>\n      <td>1</td>\n      <td>True</td>\n      <td>20.0</td>\n    </tr>\n    <tr>\n      <th>26083</th>\n      <td>56752</td>\n      <td>2015</td>\n      <td>2200</td>\n      <td>2100</td>\n      <td>field goal</td>\n      <td>52.0</td>\n      <td>3</td>\n      <td>True</td>\n      <td>50.0</td>\n    </tr>\n    <tr>\n      <th>31352</th>\n      <td>57656</td>\n      <td>2018</td>\n      <td>1200</td>\n      <td>2250</td>\n      <td>xp</td>\n      <td>33.0</td>\n      <td>1</td>\n      <td>True</td>\n      <td>30.0</td>\n    </tr>\n  </tbody>\n</table>\n</div>"
     },
     "metadata": {},
     "execution_count": 28
    }
   ],
   "source": [
    "chute = df[df['playType'].isin(['field goal','xp'])][['gameId','season','possessionTeamId','nonpossessionTeamId','playType', 'distanceToGoalPre','pontuacao']].reset_index(drop = True)\n",
    "chute = chute[chute['pontuacao'].isin([0,1,3])].reset_index(drop = True)\n",
    "chute \n",
    "def corrige_na(df):\n",
    "    listax = []\n",
    "    for i in range(len(df['season'])):\n",
    "\n",
    "        if (pd.isna(df.loc[i, 'distanceToGoalPre'])) & (df.loc[i, 'season'] < 2015):\n",
    "            listax.append(20)\n",
    "        elif (pd.isna(df.loc[i, 'distanceToGoalPre'])) & (df.loc[i, 'season'] >= 2015):\n",
    "            listax.append(33)  \n",
    "        else:\n",
    "            listax.append(df.loc[i, 'distanceToGoalPre'])\n",
    "        \n",
    "    df['distanceToGoalPre'] = listax\n",
    "\n",
    "corrige_na(chute)\n",
    "\n",
    "\n",
    "chute['distanceToGoalPre'] = chute['distanceToGoalPre']+18\n",
    "chute['conversao'] = chute['pontuacao'] != 0\n",
    "chute['distancia_aprox'] = (chute['distanceToGoalPre']//5)*5\n",
    "\n",
    "\n",
    "chute.sample(5)"
   ]
  },
  {
   "cell_type": "code",
   "execution_count": 29,
   "metadata": {},
   "outputs": [
    {
     "output_type": "display_data",
     "data": {
      "text/plain": "    distancia_aprox  conversao\n0              15.0  99.473684\n1              20.0  98.486434\n2              25.0  94.465116\n3              30.0  92.682927\n4              35.0  88.484657\n5              40.0  79.067832\n6              45.0  70.819257\n7              50.0  64.678633\n8              55.0  50.144092\n9              60.0  30.645161\n10             65.0   0.000000\n11             75.0   0.000000",
      "text/html": "<div>\n<style scoped>\n    .dataframe tbody tr th:only-of-type {\n        vertical-align: middle;\n    }\n\n    .dataframe tbody tr th {\n        vertical-align: top;\n    }\n\n    .dataframe thead th {\n        text-align: right;\n    }\n</style>\n<table border=\"1\" class=\"dataframe\">\n  <thead>\n    <tr style=\"text-align: right;\">\n      <th></th>\n      <th>distancia_aprox</th>\n      <th>conversao</th>\n    </tr>\n  </thead>\n  <tbody>\n    <tr>\n      <th>0</th>\n      <td>15.0</td>\n      <td>99.473684</td>\n    </tr>\n    <tr>\n      <th>1</th>\n      <td>20.0</td>\n      <td>98.486434</td>\n    </tr>\n    <tr>\n      <th>2</th>\n      <td>25.0</td>\n      <td>94.465116</td>\n    </tr>\n    <tr>\n      <th>3</th>\n      <td>30.0</td>\n      <td>92.682927</td>\n    </tr>\n    <tr>\n      <th>4</th>\n      <td>35.0</td>\n      <td>88.484657</td>\n    </tr>\n    <tr>\n      <th>5</th>\n      <td>40.0</td>\n      <td>79.067832</td>\n    </tr>\n    <tr>\n      <th>6</th>\n      <td>45.0</td>\n      <td>70.819257</td>\n    </tr>\n    <tr>\n      <th>7</th>\n      <td>50.0</td>\n      <td>64.678633</td>\n    </tr>\n    <tr>\n      <th>8</th>\n      <td>55.0</td>\n      <td>50.144092</td>\n    </tr>\n    <tr>\n      <th>9</th>\n      <td>60.0</td>\n      <td>30.645161</td>\n    </tr>\n    <tr>\n      <th>10</th>\n      <td>65.0</td>\n      <td>0.000000</td>\n    </tr>\n    <tr>\n      <th>11</th>\n      <td>75.0</td>\n      <td>0.000000</td>\n    </tr>\n  </tbody>\n</table>\n</div>"
     },
     "metadata": {}
    },
    {
     "output_type": "display_data",
     "data": {
      "text/plain": "<Figure size 720x432 with 1 Axes>",
      "image/svg+xml": "<?xml version=\"1.0\" encoding=\"utf-8\" standalone=\"no\"?>\r\n<!DOCTYPE svg PUBLIC \"-//W3C//DTD SVG 1.1//EN\"\r\n  \"http://www.w3.org/Graphics/SVG/1.1/DTD/svg11.dtd\">\r\n<!-- Created with matplotlib (https://matplotlib.org/) -->\r\n<svg height=\"386.034375pt\" version=\"1.1\" viewBox=\"0 0 612.165625 386.034375\" width=\"612.165625pt\" xmlns=\"http://www.w3.org/2000/svg\" xmlns:xlink=\"http://www.w3.org/1999/xlink\">\r\n <metadata>\r\n  <rdf:RDF xmlns:cc=\"http://creativecommons.org/ns#\" xmlns:dc=\"http://purl.org/dc/elements/1.1/\" xmlns:rdf=\"http://www.w3.org/1999/02/22-rdf-syntax-ns#\">\r\n   <cc:Work>\r\n    <dc:type rdf:resource=\"http://purl.org/dc/dcmitype/StillImage\"/>\r\n    <dc:date>2021-05-07T21:55:03.272869</dc:date>\r\n    <dc:format>image/svg+xml</dc:format>\r\n    <dc:creator>\r\n     <cc:Agent>\r\n      <dc:title>Matplotlib v3.3.2, https://matplotlib.org/</dc:title>\r\n     </cc:Agent>\r\n    </dc:creator>\r\n   </cc:Work>\r\n  </rdf:RDF>\r\n </metadata>\r\n <defs>\r\n  <style type=\"text/css\">*{stroke-linecap:butt;stroke-linejoin:round;}</style>\r\n </defs>\r\n <g id=\"figure_1\">\r\n  <g id=\"patch_1\">\r\n   <path d=\"M 0 386.034375 \r\nL 612.165625 386.034375 \r\nL 612.165625 0 \r\nL 0 0 \r\nz\r\n\" style=\"fill:none;\"/>\r\n  </g>\r\n  <g id=\"axes_1\">\r\n   <g id=\"patch_2\">\r\n    <path d=\"M 46.965625 348.478125 \r\nL 604.965625 348.478125 \r\nL 604.965625 22.318125 \r\nL 46.965625 22.318125 \r\nz\r\n\" style=\"fill:#ffffff;\"/>\r\n   </g>\r\n   <g id=\"patch_3\">\r\n    <path clip-path=\"url(#p7548cc0611)\" d=\"M 51.615625 348.478125 \r\nL 88.815625 348.478125 \r\nL 88.815625 37.849554 \r\nL 51.615625 37.849554 \r\nz\r\n\" style=\"fill:#df2020;\"/>\r\n   </g>\r\n   <g id=\"patch_4\">\r\n    <path clip-path=\"url(#p7548cc0611)\" d=\"M 98.115625 348.478125 \r\nL 135.315625 348.478125 \r\nL 135.315625 40.932462 \r\nL 98.115625 40.932462 \r\nz\r\n\" style=\"fill:#df2020;\"/>\r\n   </g>\r\n   <g id=\"patch_5\">\r\n    <path clip-path=\"url(#p7548cc0611)\" d=\"M 144.615625 348.478125 \r\nL 181.815625 348.478125 \r\nL 181.815625 53.489914 \r\nL 144.615625 53.489914 \r\nz\r\n\" style=\"fill:#df2020;\"/>\r\n   </g>\r\n   <g id=\"patch_6\">\r\n    <path clip-path=\"url(#p7548cc0611)\" d=\"M 191.115625 348.478125 \r\nL 228.315625 348.478125 \r\nL 228.315625 59.055195 \r\nL 191.115625 59.055195 \r\nz\r\n\" style=\"fill:#df2020;\"/>\r\n   </g>\r\n   <g id=\"patch_7\">\r\n    <path clip-path=\"url(#p7548cc0611)\" d=\"M 237.615625 348.478125 \r\nL 274.815625 348.478125 \r\nL 274.815625 72.165221 \r\nL 237.615625 72.165221 \r\nz\r\n\" style=\"fill:#df2020;\"/>\r\n   </g>\r\n   <g id=\"patch_8\">\r\n    <path clip-path=\"url(#p7548cc0611)\" d=\"M 284.115625 348.478125 \r\nL 321.315625 348.478125 \r\nL 321.315625 101.571339 \r\nL 284.115625 101.571339 \r\nz\r\n\" style=\"fill:#df2020;\"/>\r\n   </g>\r\n   <g id=\"patch_9\">\r\n    <path clip-path=\"url(#p7548cc0611)\" d=\"M 330.615625 348.478125 \r\nL 367.815625 348.478125 \r\nL 367.815625 127.329338 \r\nL 330.615625 127.329338 \r\nz\r\n\" style=\"fill:#df2020;\"/>\r\n   </g>\r\n   <g id=\"patch_10\">\r\n    <path clip-path=\"url(#p7548cc0611)\" d=\"M 377.115625 348.478125 \r\nL 414.315625 348.478125 \r\nL 414.315625 146.504792 \r\nL 377.115625 146.504792 \r\nz\r\n\" style=\"fill:#df2020;\"/>\r\n   </g>\r\n   <g id=\"patch_11\">\r\n    <path clip-path=\"url(#p7548cc0611)\" d=\"M 423.615625 348.478125 \r\nL 460.815625 348.478125 \r\nL 460.815625 191.892111 \r\nL 423.615625 191.892111 \r\nz\r\n\" style=\"fill:#df2020;\"/>\r\n   </g>\r\n   <g id=\"patch_12\">\r\n    <path clip-path=\"url(#p7548cc0611)\" d=\"M 470.115625 348.478125 \r\nL 507.315625 348.478125 \r\nL 507.315625 252.781834 \r\nL 470.115625 252.781834 \r\nz\r\n\" style=\"fill:#df2020;\"/>\r\n   </g>\r\n   <g id=\"patch_13\">\r\n    <path clip-path=\"url(#p7548cc0611)\" d=\"M 516.615625 348.478125 \r\nL 553.815625 348.478125 \r\nL 553.815625 348.478125 \r\nL 516.615625 348.478125 \r\nz\r\n\" style=\"fill:#df2020;\"/>\r\n   </g>\r\n   <g id=\"patch_14\">\r\n    <path clip-path=\"url(#p7548cc0611)\" d=\"M 563.115625 348.478125 \r\nL 600.315625 348.478125 \r\nL 600.315625 348.478125 \r\nL 563.115625 348.478125 \r\nz\r\n\" style=\"fill:#df2020;\"/>\r\n   </g>\r\n   <g id=\"matplotlib.axis_1\">\r\n    <g id=\"xtick_1\">\r\n     <g id=\"line2d_1\">\r\n      <defs>\r\n       <path d=\"M 0 0 \r\nL 0 3.5 \r\n\" id=\"m53e18c048b\" style=\"stroke:#000000;stroke-width:0.8;\"/>\r\n      </defs>\r\n      <g>\r\n       <use style=\"stroke:#000000;stroke-width:0.8;\" x=\"70.215625\" xlink:href=\"#m53e18c048b\" y=\"348.478125\"/>\r\n      </g>\r\n     </g>\r\n     <g id=\"text_1\">\r\n      <!-- 15.0 -->\r\n      <g transform=\"translate(59.082813 363.076562)scale(0.1 -0.1)\">\r\n       <defs>\r\n        <path d=\"M 12.40625 8.296875 \r\nL 28.515625 8.296875 \r\nL 28.515625 63.921875 \r\nL 10.984375 60.40625 \r\nL 10.984375 69.390625 \r\nL 28.421875 72.90625 \r\nL 38.28125 72.90625 \r\nL 38.28125 8.296875 \r\nL 54.390625 8.296875 \r\nL 54.390625 0 \r\nL 12.40625 0 \r\nz\r\n\" id=\"DejaVuSans-49\"/>\r\n        <path d=\"M 10.796875 72.90625 \r\nL 49.515625 72.90625 \r\nL 49.515625 64.59375 \r\nL 19.828125 64.59375 \r\nL 19.828125 46.734375 \r\nQ 21.96875 47.46875 24.109375 47.828125 \r\nQ 26.265625 48.1875 28.421875 48.1875 \r\nQ 40.625 48.1875 47.75 41.5 \r\nQ 54.890625 34.8125 54.890625 23.390625 \r\nQ 54.890625 11.625 47.5625 5.09375 \r\nQ 40.234375 -1.421875 26.90625 -1.421875 \r\nQ 22.3125 -1.421875 17.546875 -0.640625 \r\nQ 12.796875 0.140625 7.71875 1.703125 \r\nL 7.71875 11.625 \r\nQ 12.109375 9.234375 16.796875 8.0625 \r\nQ 21.484375 6.890625 26.703125 6.890625 \r\nQ 35.15625 6.890625 40.078125 11.328125 \r\nQ 45.015625 15.765625 45.015625 23.390625 \r\nQ 45.015625 31 40.078125 35.4375 \r\nQ 35.15625 39.890625 26.703125 39.890625 \r\nQ 22.75 39.890625 18.8125 39.015625 \r\nQ 14.890625 38.140625 10.796875 36.28125 \r\nz\r\n\" id=\"DejaVuSans-53\"/>\r\n        <path d=\"M 10.6875 12.40625 \r\nL 21 12.40625 \r\nL 21 0 \r\nL 10.6875 0 \r\nz\r\n\" id=\"DejaVuSans-46\"/>\r\n        <path d=\"M 31.78125 66.40625 \r\nQ 24.171875 66.40625 20.328125 58.90625 \r\nQ 16.5 51.421875 16.5 36.375 \r\nQ 16.5 21.390625 20.328125 13.890625 \r\nQ 24.171875 6.390625 31.78125 6.390625 \r\nQ 39.453125 6.390625 43.28125 13.890625 \r\nQ 47.125 21.390625 47.125 36.375 \r\nQ 47.125 51.421875 43.28125 58.90625 \r\nQ 39.453125 66.40625 31.78125 66.40625 \r\nz\r\nM 31.78125 74.21875 \r\nQ 44.046875 74.21875 50.515625 64.515625 \r\nQ 56.984375 54.828125 56.984375 36.375 \r\nQ 56.984375 17.96875 50.515625 8.265625 \r\nQ 44.046875 -1.421875 31.78125 -1.421875 \r\nQ 19.53125 -1.421875 13.0625 8.265625 \r\nQ 6.59375 17.96875 6.59375 36.375 \r\nQ 6.59375 54.828125 13.0625 64.515625 \r\nQ 19.53125 74.21875 31.78125 74.21875 \r\nz\r\n\" id=\"DejaVuSans-48\"/>\r\n       </defs>\r\n       <use xlink:href=\"#DejaVuSans-49\"/>\r\n       <use x=\"63.623047\" xlink:href=\"#DejaVuSans-53\"/>\r\n       <use x=\"127.246094\" xlink:href=\"#DejaVuSans-46\"/>\r\n       <use x=\"159.033203\" xlink:href=\"#DejaVuSans-48\"/>\r\n      </g>\r\n     </g>\r\n    </g>\r\n    <g id=\"xtick_2\">\r\n     <g id=\"line2d_2\">\r\n      <g>\r\n       <use style=\"stroke:#000000;stroke-width:0.8;\" x=\"116.715625\" xlink:href=\"#m53e18c048b\" y=\"348.478125\"/>\r\n      </g>\r\n     </g>\r\n     <g id=\"text_2\">\r\n      <!-- 20.0 -->\r\n      <g transform=\"translate(105.582813 363.076562)scale(0.1 -0.1)\">\r\n       <defs>\r\n        <path d=\"M 19.1875 8.296875 \r\nL 53.609375 8.296875 \r\nL 53.609375 0 \r\nL 7.328125 0 \r\nL 7.328125 8.296875 \r\nQ 12.9375 14.109375 22.625 23.890625 \r\nQ 32.328125 33.6875 34.8125 36.53125 \r\nQ 39.546875 41.84375 41.421875 45.53125 \r\nQ 43.3125 49.21875 43.3125 52.78125 \r\nQ 43.3125 58.59375 39.234375 62.25 \r\nQ 35.15625 65.921875 28.609375 65.921875 \r\nQ 23.96875 65.921875 18.8125 64.3125 \r\nQ 13.671875 62.703125 7.8125 59.421875 \r\nL 7.8125 69.390625 \r\nQ 13.765625 71.78125 18.9375 73 \r\nQ 24.125 74.21875 28.421875 74.21875 \r\nQ 39.75 74.21875 46.484375 68.546875 \r\nQ 53.21875 62.890625 53.21875 53.421875 \r\nQ 53.21875 48.921875 51.53125 44.890625 \r\nQ 49.859375 40.875 45.40625 35.40625 \r\nQ 44.1875 33.984375 37.640625 27.21875 \r\nQ 31.109375 20.453125 19.1875 8.296875 \r\nz\r\n\" id=\"DejaVuSans-50\"/>\r\n       </defs>\r\n       <use xlink:href=\"#DejaVuSans-50\"/>\r\n       <use x=\"63.623047\" xlink:href=\"#DejaVuSans-48\"/>\r\n       <use x=\"127.246094\" xlink:href=\"#DejaVuSans-46\"/>\r\n       <use x=\"159.033203\" xlink:href=\"#DejaVuSans-48\"/>\r\n      </g>\r\n     </g>\r\n    </g>\r\n    <g id=\"xtick_3\">\r\n     <g id=\"line2d_3\">\r\n      <g>\r\n       <use style=\"stroke:#000000;stroke-width:0.8;\" x=\"163.215625\" xlink:href=\"#m53e18c048b\" y=\"348.478125\"/>\r\n      </g>\r\n     </g>\r\n     <g id=\"text_3\">\r\n      <!-- 25.0 -->\r\n      <g transform=\"translate(152.082813 363.076562)scale(0.1 -0.1)\">\r\n       <use xlink:href=\"#DejaVuSans-50\"/>\r\n       <use x=\"63.623047\" xlink:href=\"#DejaVuSans-53\"/>\r\n       <use x=\"127.246094\" xlink:href=\"#DejaVuSans-46\"/>\r\n       <use x=\"159.033203\" xlink:href=\"#DejaVuSans-48\"/>\r\n      </g>\r\n     </g>\r\n    </g>\r\n    <g id=\"xtick_4\">\r\n     <g id=\"line2d_4\">\r\n      <g>\r\n       <use style=\"stroke:#000000;stroke-width:0.8;\" x=\"209.715625\" xlink:href=\"#m53e18c048b\" y=\"348.478125\"/>\r\n      </g>\r\n     </g>\r\n     <g id=\"text_4\">\r\n      <!-- 30.0 -->\r\n      <g transform=\"translate(198.582813 363.076562)scale(0.1 -0.1)\">\r\n       <defs>\r\n        <path d=\"M 40.578125 39.3125 \r\nQ 47.65625 37.796875 51.625 33 \r\nQ 55.609375 28.21875 55.609375 21.1875 \r\nQ 55.609375 10.40625 48.1875 4.484375 \r\nQ 40.765625 -1.421875 27.09375 -1.421875 \r\nQ 22.515625 -1.421875 17.65625 -0.515625 \r\nQ 12.796875 0.390625 7.625 2.203125 \r\nL 7.625 11.71875 \r\nQ 11.71875 9.328125 16.59375 8.109375 \r\nQ 21.484375 6.890625 26.8125 6.890625 \r\nQ 36.078125 6.890625 40.9375 10.546875 \r\nQ 45.796875 14.203125 45.796875 21.1875 \r\nQ 45.796875 27.640625 41.28125 31.265625 \r\nQ 36.765625 34.90625 28.71875 34.90625 \r\nL 20.21875 34.90625 \r\nL 20.21875 43.015625 \r\nL 29.109375 43.015625 \r\nQ 36.375 43.015625 40.234375 45.921875 \r\nQ 44.09375 48.828125 44.09375 54.296875 \r\nQ 44.09375 59.90625 40.109375 62.90625 \r\nQ 36.140625 65.921875 28.71875 65.921875 \r\nQ 24.65625 65.921875 20.015625 65.03125 \r\nQ 15.375 64.15625 9.8125 62.3125 \r\nL 9.8125 71.09375 \r\nQ 15.4375 72.65625 20.34375 73.4375 \r\nQ 25.25 74.21875 29.59375 74.21875 \r\nQ 40.828125 74.21875 47.359375 69.109375 \r\nQ 53.90625 64.015625 53.90625 55.328125 \r\nQ 53.90625 49.265625 50.4375 45.09375 \r\nQ 46.96875 40.921875 40.578125 39.3125 \r\nz\r\n\" id=\"DejaVuSans-51\"/>\r\n       </defs>\r\n       <use xlink:href=\"#DejaVuSans-51\"/>\r\n       <use x=\"63.623047\" xlink:href=\"#DejaVuSans-48\"/>\r\n       <use x=\"127.246094\" xlink:href=\"#DejaVuSans-46\"/>\r\n       <use x=\"159.033203\" xlink:href=\"#DejaVuSans-48\"/>\r\n      </g>\r\n     </g>\r\n    </g>\r\n    <g id=\"xtick_5\">\r\n     <g id=\"line2d_5\">\r\n      <g>\r\n       <use style=\"stroke:#000000;stroke-width:0.8;\" x=\"256.215625\" xlink:href=\"#m53e18c048b\" y=\"348.478125\"/>\r\n      </g>\r\n     </g>\r\n     <g id=\"text_5\">\r\n      <!-- 35.0 -->\r\n      <g transform=\"translate(245.082813 363.076562)scale(0.1 -0.1)\">\r\n       <use xlink:href=\"#DejaVuSans-51\"/>\r\n       <use x=\"63.623047\" xlink:href=\"#DejaVuSans-53\"/>\r\n       <use x=\"127.246094\" xlink:href=\"#DejaVuSans-46\"/>\r\n       <use x=\"159.033203\" xlink:href=\"#DejaVuSans-48\"/>\r\n      </g>\r\n     </g>\r\n    </g>\r\n    <g id=\"xtick_6\">\r\n     <g id=\"line2d_6\">\r\n      <g>\r\n       <use style=\"stroke:#000000;stroke-width:0.8;\" x=\"302.715625\" xlink:href=\"#m53e18c048b\" y=\"348.478125\"/>\r\n      </g>\r\n     </g>\r\n     <g id=\"text_6\">\r\n      <!-- 40.0 -->\r\n      <g transform=\"translate(291.582813 363.076562)scale(0.1 -0.1)\">\r\n       <defs>\r\n        <path d=\"M 37.796875 64.3125 \r\nL 12.890625 25.390625 \r\nL 37.796875 25.390625 \r\nz\r\nM 35.203125 72.90625 \r\nL 47.609375 72.90625 \r\nL 47.609375 25.390625 \r\nL 58.015625 25.390625 \r\nL 58.015625 17.1875 \r\nL 47.609375 17.1875 \r\nL 47.609375 0 \r\nL 37.796875 0 \r\nL 37.796875 17.1875 \r\nL 4.890625 17.1875 \r\nL 4.890625 26.703125 \r\nz\r\n\" id=\"DejaVuSans-52\"/>\r\n       </defs>\r\n       <use xlink:href=\"#DejaVuSans-52\"/>\r\n       <use x=\"63.623047\" xlink:href=\"#DejaVuSans-48\"/>\r\n       <use x=\"127.246094\" xlink:href=\"#DejaVuSans-46\"/>\r\n       <use x=\"159.033203\" xlink:href=\"#DejaVuSans-48\"/>\r\n      </g>\r\n     </g>\r\n    </g>\r\n    <g id=\"xtick_7\">\r\n     <g id=\"line2d_7\">\r\n      <g>\r\n       <use style=\"stroke:#000000;stroke-width:0.8;\" x=\"349.215625\" xlink:href=\"#m53e18c048b\" y=\"348.478125\"/>\r\n      </g>\r\n     </g>\r\n     <g id=\"text_7\">\r\n      <!-- 45.0 -->\r\n      <g transform=\"translate(338.082813 363.076562)scale(0.1 -0.1)\">\r\n       <use xlink:href=\"#DejaVuSans-52\"/>\r\n       <use x=\"63.623047\" xlink:href=\"#DejaVuSans-53\"/>\r\n       <use x=\"127.246094\" xlink:href=\"#DejaVuSans-46\"/>\r\n       <use x=\"159.033203\" xlink:href=\"#DejaVuSans-48\"/>\r\n      </g>\r\n     </g>\r\n    </g>\r\n    <g id=\"xtick_8\">\r\n     <g id=\"line2d_8\">\r\n      <g>\r\n       <use style=\"stroke:#000000;stroke-width:0.8;\" x=\"395.715625\" xlink:href=\"#m53e18c048b\" y=\"348.478125\"/>\r\n      </g>\r\n     </g>\r\n     <g id=\"text_8\">\r\n      <!-- 50.0 -->\r\n      <g transform=\"translate(384.582813 363.076562)scale(0.1 -0.1)\">\r\n       <use xlink:href=\"#DejaVuSans-53\"/>\r\n       <use x=\"63.623047\" xlink:href=\"#DejaVuSans-48\"/>\r\n       <use x=\"127.246094\" xlink:href=\"#DejaVuSans-46\"/>\r\n       <use x=\"159.033203\" xlink:href=\"#DejaVuSans-48\"/>\r\n      </g>\r\n     </g>\r\n    </g>\r\n    <g id=\"xtick_9\">\r\n     <g id=\"line2d_9\">\r\n      <g>\r\n       <use style=\"stroke:#000000;stroke-width:0.8;\" x=\"442.215625\" xlink:href=\"#m53e18c048b\" y=\"348.478125\"/>\r\n      </g>\r\n     </g>\r\n     <g id=\"text_9\">\r\n      <!-- 55.0 -->\r\n      <g transform=\"translate(431.082813 363.076562)scale(0.1 -0.1)\">\r\n       <use xlink:href=\"#DejaVuSans-53\"/>\r\n       <use x=\"63.623047\" xlink:href=\"#DejaVuSans-53\"/>\r\n       <use x=\"127.246094\" xlink:href=\"#DejaVuSans-46\"/>\r\n       <use x=\"159.033203\" xlink:href=\"#DejaVuSans-48\"/>\r\n      </g>\r\n     </g>\r\n    </g>\r\n    <g id=\"xtick_10\">\r\n     <g id=\"line2d_10\">\r\n      <g>\r\n       <use style=\"stroke:#000000;stroke-width:0.8;\" x=\"488.715625\" xlink:href=\"#m53e18c048b\" y=\"348.478125\"/>\r\n      </g>\r\n     </g>\r\n     <g id=\"text_10\">\r\n      <!-- 60.0 -->\r\n      <g transform=\"translate(477.582813 363.076562)scale(0.1 -0.1)\">\r\n       <defs>\r\n        <path d=\"M 33.015625 40.375 \r\nQ 26.375 40.375 22.484375 35.828125 \r\nQ 18.609375 31.296875 18.609375 23.390625 \r\nQ 18.609375 15.53125 22.484375 10.953125 \r\nQ 26.375 6.390625 33.015625 6.390625 \r\nQ 39.65625 6.390625 43.53125 10.953125 \r\nQ 47.40625 15.53125 47.40625 23.390625 \r\nQ 47.40625 31.296875 43.53125 35.828125 \r\nQ 39.65625 40.375 33.015625 40.375 \r\nz\r\nM 52.59375 71.296875 \r\nL 52.59375 62.3125 \r\nQ 48.875 64.0625 45.09375 64.984375 \r\nQ 41.3125 65.921875 37.59375 65.921875 \r\nQ 27.828125 65.921875 22.671875 59.328125 \r\nQ 17.53125 52.734375 16.796875 39.40625 \r\nQ 19.671875 43.65625 24.015625 45.921875 \r\nQ 28.375 48.1875 33.59375 48.1875 \r\nQ 44.578125 48.1875 50.953125 41.515625 \r\nQ 57.328125 34.859375 57.328125 23.390625 \r\nQ 57.328125 12.15625 50.6875 5.359375 \r\nQ 44.046875 -1.421875 33.015625 -1.421875 \r\nQ 20.359375 -1.421875 13.671875 8.265625 \r\nQ 6.984375 17.96875 6.984375 36.375 \r\nQ 6.984375 53.65625 15.1875 63.9375 \r\nQ 23.390625 74.21875 37.203125 74.21875 \r\nQ 40.921875 74.21875 44.703125 73.484375 \r\nQ 48.484375 72.75 52.59375 71.296875 \r\nz\r\n\" id=\"DejaVuSans-54\"/>\r\n       </defs>\r\n       <use xlink:href=\"#DejaVuSans-54\"/>\r\n       <use x=\"63.623047\" xlink:href=\"#DejaVuSans-48\"/>\r\n       <use x=\"127.246094\" xlink:href=\"#DejaVuSans-46\"/>\r\n       <use x=\"159.033203\" xlink:href=\"#DejaVuSans-48\"/>\r\n      </g>\r\n     </g>\r\n    </g>\r\n    <g id=\"xtick_11\">\r\n     <g id=\"line2d_11\">\r\n      <g>\r\n       <use style=\"stroke:#000000;stroke-width:0.8;\" x=\"535.215625\" xlink:href=\"#m53e18c048b\" y=\"348.478125\"/>\r\n      </g>\r\n     </g>\r\n     <g id=\"text_11\">\r\n      <!-- 65.0 -->\r\n      <g transform=\"translate(524.082813 363.076562)scale(0.1 -0.1)\">\r\n       <use xlink:href=\"#DejaVuSans-54\"/>\r\n       <use x=\"63.623047\" xlink:href=\"#DejaVuSans-53\"/>\r\n       <use x=\"127.246094\" xlink:href=\"#DejaVuSans-46\"/>\r\n       <use x=\"159.033203\" xlink:href=\"#DejaVuSans-48\"/>\r\n      </g>\r\n     </g>\r\n    </g>\r\n    <g id=\"xtick_12\">\r\n     <g id=\"line2d_12\">\r\n      <g>\r\n       <use style=\"stroke:#000000;stroke-width:0.8;\" x=\"581.715625\" xlink:href=\"#m53e18c048b\" y=\"348.478125\"/>\r\n      </g>\r\n     </g>\r\n     <g id=\"text_12\">\r\n      <!-- 75.0 -->\r\n      <g transform=\"translate(570.582813 363.076562)scale(0.1 -0.1)\">\r\n       <defs>\r\n        <path d=\"M 8.203125 72.90625 \r\nL 55.078125 72.90625 \r\nL 55.078125 68.703125 \r\nL 28.609375 0 \r\nL 18.3125 0 \r\nL 43.21875 64.59375 \r\nL 8.203125 64.59375 \r\nz\r\n\" id=\"DejaVuSans-55\"/>\r\n       </defs>\r\n       <use xlink:href=\"#DejaVuSans-55\"/>\r\n       <use x=\"63.623047\" xlink:href=\"#DejaVuSans-53\"/>\r\n       <use x=\"127.246094\" xlink:href=\"#DejaVuSans-46\"/>\r\n       <use x=\"159.033203\" xlink:href=\"#DejaVuSans-48\"/>\r\n      </g>\r\n     </g>\r\n    </g>\r\n    <g id=\"text_13\">\r\n     <!-- Distância -->\r\n     <g transform=\"translate(302.726563 376.754687)scale(0.1 -0.1)\">\r\n      <defs>\r\n       <path d=\"M 19.671875 64.796875 \r\nL 19.671875 8.109375 \r\nL 31.59375 8.109375 \r\nQ 46.6875 8.109375 53.6875 14.9375 \r\nQ 60.6875 21.78125 60.6875 36.53125 \r\nQ 60.6875 51.171875 53.6875 57.984375 \r\nQ 46.6875 64.796875 31.59375 64.796875 \r\nz\r\nM 9.8125 72.90625 \r\nL 30.078125 72.90625 \r\nQ 51.265625 72.90625 61.171875 64.09375 \r\nQ 71.09375 55.28125 71.09375 36.53125 \r\nQ 71.09375 17.671875 61.125 8.828125 \r\nQ 51.171875 0 30.078125 0 \r\nL 9.8125 0 \r\nz\r\n\" id=\"DejaVuSans-68\"/>\r\n       <path d=\"M 9.421875 54.6875 \r\nL 18.40625 54.6875 \r\nL 18.40625 0 \r\nL 9.421875 0 \r\nz\r\nM 9.421875 75.984375 \r\nL 18.40625 75.984375 \r\nL 18.40625 64.59375 \r\nL 9.421875 64.59375 \r\nz\r\n\" id=\"DejaVuSans-105\"/>\r\n       <path d=\"M 44.28125 53.078125 \r\nL 44.28125 44.578125 \r\nQ 40.484375 46.53125 36.375 47.5 \r\nQ 32.28125 48.484375 27.875 48.484375 \r\nQ 21.1875 48.484375 17.84375 46.4375 \r\nQ 14.5 44.390625 14.5 40.28125 \r\nQ 14.5 37.15625 16.890625 35.375 \r\nQ 19.28125 33.59375 26.515625 31.984375 \r\nL 29.59375 31.296875 \r\nQ 39.15625 29.25 43.1875 25.515625 \r\nQ 47.21875 21.78125 47.21875 15.09375 \r\nQ 47.21875 7.46875 41.1875 3.015625 \r\nQ 35.15625 -1.421875 24.609375 -1.421875 \r\nQ 20.21875 -1.421875 15.453125 -0.5625 \r\nQ 10.6875 0.296875 5.421875 2 \r\nL 5.421875 11.28125 \r\nQ 10.40625 8.6875 15.234375 7.390625 \r\nQ 20.0625 6.109375 24.8125 6.109375 \r\nQ 31.15625 6.109375 34.5625 8.28125 \r\nQ 37.984375 10.453125 37.984375 14.40625 \r\nQ 37.984375 18.0625 35.515625 20.015625 \r\nQ 33.0625 21.96875 24.703125 23.78125 \r\nL 21.578125 24.515625 \r\nQ 13.234375 26.265625 9.515625 29.90625 \r\nQ 5.8125 33.546875 5.8125 39.890625 \r\nQ 5.8125 47.609375 11.28125 51.796875 \r\nQ 16.75 56 26.8125 56 \r\nQ 31.78125 56 36.171875 55.265625 \r\nQ 40.578125 54.546875 44.28125 53.078125 \r\nz\r\n\" id=\"DejaVuSans-115\"/>\r\n       <path d=\"M 18.3125 70.21875 \r\nL 18.3125 54.6875 \r\nL 36.8125 54.6875 \r\nL 36.8125 47.703125 \r\nL 18.3125 47.703125 \r\nL 18.3125 18.015625 \r\nQ 18.3125 11.328125 20.140625 9.421875 \r\nQ 21.96875 7.515625 27.59375 7.515625 \r\nL 36.8125 7.515625 \r\nL 36.8125 0 \r\nL 27.59375 0 \r\nQ 17.1875 0 13.234375 3.875 \r\nQ 9.28125 7.765625 9.28125 18.015625 \r\nL 9.28125 47.703125 \r\nL 2.6875 47.703125 \r\nL 2.6875 54.6875 \r\nL 9.28125 54.6875 \r\nL 9.28125 70.21875 \r\nz\r\n\" id=\"DejaVuSans-116\"/>\r\n       <path d=\"M 34.28125 27.484375 \r\nQ 23.390625 27.484375 19.1875 25 \r\nQ 14.984375 22.515625 14.984375 16.5 \r\nQ 14.984375 11.71875 18.140625 8.90625 \r\nQ 21.296875 6.109375 26.703125 6.109375 \r\nQ 34.1875 6.109375 38.703125 11.40625 \r\nQ 43.21875 16.703125 43.21875 25.484375 \r\nL 43.21875 27.484375 \r\nz\r\nM 52.203125 31.203125 \r\nL 52.203125 0 \r\nL 43.21875 0 \r\nL 43.21875 8.296875 \r\nQ 40.140625 3.328125 35.546875 0.953125 \r\nQ 30.953125 -1.421875 24.3125 -1.421875 \r\nQ 15.921875 -1.421875 10.953125 3.296875 \r\nQ 6 8.015625 6 15.921875 \r\nQ 6 25.140625 12.171875 29.828125 \r\nQ 18.359375 34.515625 30.609375 34.515625 \r\nL 43.21875 34.515625 \r\nL 43.21875 35.40625 \r\nQ 43.21875 41.609375 39.140625 45 \r\nQ 35.0625 48.390625 27.6875 48.390625 \r\nQ 23 48.390625 18.546875 47.265625 \r\nQ 14.109375 46.140625 10.015625 43.890625 \r\nL 10.015625 52.203125 \r\nQ 14.9375 54.109375 19.578125 55.046875 \r\nQ 24.21875 56 28.609375 56 \r\nQ 40.484375 56 46.34375 49.84375 \r\nQ 52.203125 43.703125 52.203125 31.203125 \r\nz\r\nM 25.390625 79.984375 \r\nL 32.625 79.984375 \r\nL 44.578125 61.625 \r\nL 37.796875 61.625 \r\nL 29 73.578125 \r\nL 20.21875 61.625 \r\nL 13.421875 61.625 \r\nz\r\n\" id=\"DejaVuSans-226\"/>\r\n       <path d=\"M 54.890625 33.015625 \r\nL 54.890625 0 \r\nL 45.90625 0 \r\nL 45.90625 32.71875 \r\nQ 45.90625 40.484375 42.875 44.328125 \r\nQ 39.84375 48.1875 33.796875 48.1875 \r\nQ 26.515625 48.1875 22.3125 43.546875 \r\nQ 18.109375 38.921875 18.109375 30.90625 \r\nL 18.109375 0 \r\nL 9.078125 0 \r\nL 9.078125 54.6875 \r\nL 18.109375 54.6875 \r\nL 18.109375 46.1875 \r\nQ 21.34375 51.125 25.703125 53.5625 \r\nQ 30.078125 56 35.796875 56 \r\nQ 45.21875 56 50.046875 50.171875 \r\nQ 54.890625 44.34375 54.890625 33.015625 \r\nz\r\n\" id=\"DejaVuSans-110\"/>\r\n       <path d=\"M 48.78125 52.59375 \r\nL 48.78125 44.1875 \r\nQ 44.96875 46.296875 41.140625 47.34375 \r\nQ 37.3125 48.390625 33.40625 48.390625 \r\nQ 24.65625 48.390625 19.8125 42.84375 \r\nQ 14.984375 37.3125 14.984375 27.296875 \r\nQ 14.984375 17.28125 19.8125 11.734375 \r\nQ 24.65625 6.203125 33.40625 6.203125 \r\nQ 37.3125 6.203125 41.140625 7.25 \r\nQ 44.96875 8.296875 48.78125 10.40625 \r\nL 48.78125 2.09375 \r\nQ 45.015625 0.34375 40.984375 -0.53125 \r\nQ 36.96875 -1.421875 32.421875 -1.421875 \r\nQ 20.0625 -1.421875 12.78125 6.34375 \r\nQ 5.515625 14.109375 5.515625 27.296875 \r\nQ 5.515625 40.671875 12.859375 48.328125 \r\nQ 20.21875 56 33.015625 56 \r\nQ 37.15625 56 41.109375 55.140625 \r\nQ 45.0625 54.296875 48.78125 52.59375 \r\nz\r\n\" id=\"DejaVuSans-99\"/>\r\n       <path d=\"M 34.28125 27.484375 \r\nQ 23.390625 27.484375 19.1875 25 \r\nQ 14.984375 22.515625 14.984375 16.5 \r\nQ 14.984375 11.71875 18.140625 8.90625 \r\nQ 21.296875 6.109375 26.703125 6.109375 \r\nQ 34.1875 6.109375 38.703125 11.40625 \r\nQ 43.21875 16.703125 43.21875 25.484375 \r\nL 43.21875 27.484375 \r\nz\r\nM 52.203125 31.203125 \r\nL 52.203125 0 \r\nL 43.21875 0 \r\nL 43.21875 8.296875 \r\nQ 40.140625 3.328125 35.546875 0.953125 \r\nQ 30.953125 -1.421875 24.3125 -1.421875 \r\nQ 15.921875 -1.421875 10.953125 3.296875 \r\nQ 6 8.015625 6 15.921875 \r\nQ 6 25.140625 12.171875 29.828125 \r\nQ 18.359375 34.515625 30.609375 34.515625 \r\nL 43.21875 34.515625 \r\nL 43.21875 35.40625 \r\nQ 43.21875 41.609375 39.140625 45 \r\nQ 35.0625 48.390625 27.6875 48.390625 \r\nQ 23 48.390625 18.546875 47.265625 \r\nQ 14.109375 46.140625 10.015625 43.890625 \r\nL 10.015625 52.203125 \r\nQ 14.9375 54.109375 19.578125 55.046875 \r\nQ 24.21875 56 28.609375 56 \r\nQ 40.484375 56 46.34375 49.84375 \r\nQ 52.203125 43.703125 52.203125 31.203125 \r\nz\r\n\" id=\"DejaVuSans-97\"/>\r\n      </defs>\r\n      <use xlink:href=\"#DejaVuSans-68\"/>\r\n      <use x=\"77.001953\" xlink:href=\"#DejaVuSans-105\"/>\r\n      <use x=\"104.785156\" xlink:href=\"#DejaVuSans-115\"/>\r\n      <use x=\"156.884766\" xlink:href=\"#DejaVuSans-116\"/>\r\n      <use x=\"196.09375\" xlink:href=\"#DejaVuSans-226\"/>\r\n      <use x=\"257.373047\" xlink:href=\"#DejaVuSans-110\"/>\r\n      <use x=\"320.751953\" xlink:href=\"#DejaVuSans-99\"/>\r\n      <use x=\"375.732422\" xlink:href=\"#DejaVuSans-105\"/>\r\n      <use x=\"403.515625\" xlink:href=\"#DejaVuSans-97\"/>\r\n     </g>\r\n    </g>\r\n   </g>\r\n   <g id=\"matplotlib.axis_2\">\r\n    <g id=\"ytick_1\">\r\n     <g id=\"line2d_13\">\r\n      <defs>\r\n       <path d=\"M 0 0 \r\nL -3.5 0 \r\n\" id=\"mc1abf378f1\" style=\"stroke:#000000;stroke-width:0.8;\"/>\r\n      </defs>\r\n      <g>\r\n       <use style=\"stroke:#000000;stroke-width:0.8;\" x=\"46.965625\" xlink:href=\"#mc1abf378f1\" y=\"348.478125\"/>\r\n      </g>\r\n     </g>\r\n     <g id=\"text_14\">\r\n      <!-- 0 -->\r\n      <g transform=\"translate(33.603125 352.277344)scale(0.1 -0.1)\">\r\n       <use xlink:href=\"#DejaVuSans-48\"/>\r\n      </g>\r\n     </g>\r\n    </g>\r\n    <g id=\"ytick_2\">\r\n     <g id=\"line2d_14\">\r\n      <g>\r\n       <use style=\"stroke:#000000;stroke-width:0.8;\" x=\"46.965625\" xlink:href=\"#mc1abf378f1\" y=\"286.023703\"/>\r\n      </g>\r\n     </g>\r\n     <g id=\"text_15\">\r\n      <!-- 20 -->\r\n      <g transform=\"translate(27.240625 289.822922)scale(0.1 -0.1)\">\r\n       <use xlink:href=\"#DejaVuSans-50\"/>\r\n       <use x=\"63.623047\" xlink:href=\"#DejaVuSans-48\"/>\r\n      </g>\r\n     </g>\r\n    </g>\r\n    <g id=\"ytick_3\">\r\n     <g id=\"line2d_15\">\r\n      <g>\r\n       <use style=\"stroke:#000000;stroke-width:0.8;\" x=\"46.965625\" xlink:href=\"#mc1abf378f1\" y=\"223.569281\"/>\r\n      </g>\r\n     </g>\r\n     <g id=\"text_16\">\r\n      <!-- 40 -->\r\n      <g transform=\"translate(27.240625 227.3685)scale(0.1 -0.1)\">\r\n       <use xlink:href=\"#DejaVuSans-52\"/>\r\n       <use x=\"63.623047\" xlink:href=\"#DejaVuSans-48\"/>\r\n      </g>\r\n     </g>\r\n    </g>\r\n    <g id=\"ytick_4\">\r\n     <g id=\"line2d_16\">\r\n      <g>\r\n       <use style=\"stroke:#000000;stroke-width:0.8;\" x=\"46.965625\" xlink:href=\"#mc1abf378f1\" y=\"161.11486\"/>\r\n      </g>\r\n     </g>\r\n     <g id=\"text_17\">\r\n      <!-- 60 -->\r\n      <g transform=\"translate(27.240625 164.914078)scale(0.1 -0.1)\">\r\n       <use xlink:href=\"#DejaVuSans-54\"/>\r\n       <use x=\"63.623047\" xlink:href=\"#DejaVuSans-48\"/>\r\n      </g>\r\n     </g>\r\n    </g>\r\n    <g id=\"ytick_5\">\r\n     <g id=\"line2d_17\">\r\n      <g>\r\n       <use style=\"stroke:#000000;stroke-width:0.8;\" x=\"46.965625\" xlink:href=\"#mc1abf378f1\" y=\"98.660438\"/>\r\n      </g>\r\n     </g>\r\n     <g id=\"text_18\">\r\n      <!-- 80 -->\r\n      <g transform=\"translate(27.240625 102.459657)scale(0.1 -0.1)\">\r\n       <defs>\r\n        <path d=\"M 31.78125 34.625 \r\nQ 24.75 34.625 20.71875 30.859375 \r\nQ 16.703125 27.09375 16.703125 20.515625 \r\nQ 16.703125 13.921875 20.71875 10.15625 \r\nQ 24.75 6.390625 31.78125 6.390625 \r\nQ 38.8125 6.390625 42.859375 10.171875 \r\nQ 46.921875 13.96875 46.921875 20.515625 \r\nQ 46.921875 27.09375 42.890625 30.859375 \r\nQ 38.875 34.625 31.78125 34.625 \r\nz\r\nM 21.921875 38.8125 \r\nQ 15.578125 40.375 12.03125 44.71875 \r\nQ 8.5 49.078125 8.5 55.328125 \r\nQ 8.5 64.0625 14.71875 69.140625 \r\nQ 20.953125 74.21875 31.78125 74.21875 \r\nQ 42.671875 74.21875 48.875 69.140625 \r\nQ 55.078125 64.0625 55.078125 55.328125 \r\nQ 55.078125 49.078125 51.53125 44.71875 \r\nQ 48 40.375 41.703125 38.8125 \r\nQ 48.828125 37.15625 52.796875 32.3125 \r\nQ 56.78125 27.484375 56.78125 20.515625 \r\nQ 56.78125 9.90625 50.3125 4.234375 \r\nQ 43.84375 -1.421875 31.78125 -1.421875 \r\nQ 19.734375 -1.421875 13.25 4.234375 \r\nQ 6.78125 9.90625 6.78125 20.515625 \r\nQ 6.78125 27.484375 10.78125 32.3125 \r\nQ 14.796875 37.15625 21.921875 38.8125 \r\nz\r\nM 18.3125 54.390625 \r\nQ 18.3125 48.734375 21.84375 45.5625 \r\nQ 25.390625 42.390625 31.78125 42.390625 \r\nQ 38.140625 42.390625 41.71875 45.5625 \r\nQ 45.3125 48.734375 45.3125 54.390625 \r\nQ 45.3125 60.0625 41.71875 63.234375 \r\nQ 38.140625 66.40625 31.78125 66.40625 \r\nQ 25.390625 66.40625 21.84375 63.234375 \r\nQ 18.3125 60.0625 18.3125 54.390625 \r\nz\r\n\" id=\"DejaVuSans-56\"/>\r\n       </defs>\r\n       <use xlink:href=\"#DejaVuSans-56\"/>\r\n       <use x=\"63.623047\" xlink:href=\"#DejaVuSans-48\"/>\r\n      </g>\r\n     </g>\r\n    </g>\r\n    <g id=\"ytick_6\">\r\n     <g id=\"line2d_18\">\r\n      <g>\r\n       <use style=\"stroke:#000000;stroke-width:0.8;\" x=\"46.965625\" xlink:href=\"#mc1abf378f1\" y=\"36.206016\"/>\r\n      </g>\r\n     </g>\r\n     <g id=\"text_19\">\r\n      <!-- 100 -->\r\n      <g transform=\"translate(20.878125 40.005235)scale(0.1 -0.1)\">\r\n       <use xlink:href=\"#DejaVuSans-49\"/>\r\n       <use x=\"63.623047\" xlink:href=\"#DejaVuSans-48\"/>\r\n       <use x=\"127.246094\" xlink:href=\"#DejaVuSans-48\"/>\r\n      </g>\r\n     </g>\r\n    </g>\r\n    <g id=\"text_20\">\r\n     <!-- Probabilidade de Acerto -->\r\n     <g transform=\"translate(14.798438 245.059062)rotate(-90)scale(0.1 -0.1)\">\r\n      <defs>\r\n       <path d=\"M 19.671875 64.796875 \r\nL 19.671875 37.40625 \r\nL 32.078125 37.40625 \r\nQ 38.96875 37.40625 42.71875 40.96875 \r\nQ 46.484375 44.53125 46.484375 51.125 \r\nQ 46.484375 57.671875 42.71875 61.234375 \r\nQ 38.96875 64.796875 32.078125 64.796875 \r\nz\r\nM 9.8125 72.90625 \r\nL 32.078125 72.90625 \r\nQ 44.34375 72.90625 50.609375 67.359375 \r\nQ 56.890625 61.8125 56.890625 51.125 \r\nQ 56.890625 40.328125 50.609375 34.8125 \r\nQ 44.34375 29.296875 32.078125 29.296875 \r\nL 19.671875 29.296875 \r\nL 19.671875 0 \r\nL 9.8125 0 \r\nz\r\n\" id=\"DejaVuSans-80\"/>\r\n       <path d=\"M 41.109375 46.296875 \r\nQ 39.59375 47.171875 37.8125 47.578125 \r\nQ 36.03125 48 33.890625 48 \r\nQ 26.265625 48 22.1875 43.046875 \r\nQ 18.109375 38.09375 18.109375 28.8125 \r\nL 18.109375 0 \r\nL 9.078125 0 \r\nL 9.078125 54.6875 \r\nL 18.109375 54.6875 \r\nL 18.109375 46.1875 \r\nQ 20.953125 51.171875 25.484375 53.578125 \r\nQ 30.03125 56 36.53125 56 \r\nQ 37.453125 56 38.578125 55.875 \r\nQ 39.703125 55.765625 41.0625 55.515625 \r\nz\r\n\" id=\"DejaVuSans-114\"/>\r\n       <path d=\"M 30.609375 48.390625 \r\nQ 23.390625 48.390625 19.1875 42.75 \r\nQ 14.984375 37.109375 14.984375 27.296875 \r\nQ 14.984375 17.484375 19.15625 11.84375 \r\nQ 23.34375 6.203125 30.609375 6.203125 \r\nQ 37.796875 6.203125 41.984375 11.859375 \r\nQ 46.1875 17.53125 46.1875 27.296875 \r\nQ 46.1875 37.015625 41.984375 42.703125 \r\nQ 37.796875 48.390625 30.609375 48.390625 \r\nz\r\nM 30.609375 56 \r\nQ 42.328125 56 49.015625 48.375 \r\nQ 55.71875 40.765625 55.71875 27.296875 \r\nQ 55.71875 13.875 49.015625 6.21875 \r\nQ 42.328125 -1.421875 30.609375 -1.421875 \r\nQ 18.84375 -1.421875 12.171875 6.21875 \r\nQ 5.515625 13.875 5.515625 27.296875 \r\nQ 5.515625 40.765625 12.171875 48.375 \r\nQ 18.84375 56 30.609375 56 \r\nz\r\n\" id=\"DejaVuSans-111\"/>\r\n       <path d=\"M 48.6875 27.296875 \r\nQ 48.6875 37.203125 44.609375 42.84375 \r\nQ 40.53125 48.484375 33.40625 48.484375 \r\nQ 26.265625 48.484375 22.1875 42.84375 \r\nQ 18.109375 37.203125 18.109375 27.296875 \r\nQ 18.109375 17.390625 22.1875 11.75 \r\nQ 26.265625 6.109375 33.40625 6.109375 \r\nQ 40.53125 6.109375 44.609375 11.75 \r\nQ 48.6875 17.390625 48.6875 27.296875 \r\nz\r\nM 18.109375 46.390625 \r\nQ 20.953125 51.265625 25.265625 53.625 \r\nQ 29.59375 56 35.59375 56 \r\nQ 45.5625 56 51.78125 48.09375 \r\nQ 58.015625 40.1875 58.015625 27.296875 \r\nQ 58.015625 14.40625 51.78125 6.484375 \r\nQ 45.5625 -1.421875 35.59375 -1.421875 \r\nQ 29.59375 -1.421875 25.265625 0.953125 \r\nQ 20.953125 3.328125 18.109375 8.203125 \r\nL 18.109375 0 \r\nL 9.078125 0 \r\nL 9.078125 75.984375 \r\nL 18.109375 75.984375 \r\nz\r\n\" id=\"DejaVuSans-98\"/>\r\n       <path d=\"M 9.421875 75.984375 \r\nL 18.40625 75.984375 \r\nL 18.40625 0 \r\nL 9.421875 0 \r\nz\r\n\" id=\"DejaVuSans-108\"/>\r\n       <path d=\"M 45.40625 46.390625 \r\nL 45.40625 75.984375 \r\nL 54.390625 75.984375 \r\nL 54.390625 0 \r\nL 45.40625 0 \r\nL 45.40625 8.203125 \r\nQ 42.578125 3.328125 38.25 0.953125 \r\nQ 33.9375 -1.421875 27.875 -1.421875 \r\nQ 17.96875 -1.421875 11.734375 6.484375 \r\nQ 5.515625 14.40625 5.515625 27.296875 \r\nQ 5.515625 40.1875 11.734375 48.09375 \r\nQ 17.96875 56 27.875 56 \r\nQ 33.9375 56 38.25 53.625 \r\nQ 42.578125 51.265625 45.40625 46.390625 \r\nz\r\nM 14.796875 27.296875 \r\nQ 14.796875 17.390625 18.875 11.75 \r\nQ 22.953125 6.109375 30.078125 6.109375 \r\nQ 37.203125 6.109375 41.296875 11.75 \r\nQ 45.40625 17.390625 45.40625 27.296875 \r\nQ 45.40625 37.203125 41.296875 42.84375 \r\nQ 37.203125 48.484375 30.078125 48.484375 \r\nQ 22.953125 48.484375 18.875 42.84375 \r\nQ 14.796875 37.203125 14.796875 27.296875 \r\nz\r\n\" id=\"DejaVuSans-100\"/>\r\n       <path d=\"M 56.203125 29.59375 \r\nL 56.203125 25.203125 \r\nL 14.890625 25.203125 \r\nQ 15.484375 15.921875 20.484375 11.0625 \r\nQ 25.484375 6.203125 34.421875 6.203125 \r\nQ 39.59375 6.203125 44.453125 7.46875 \r\nQ 49.3125 8.734375 54.109375 11.28125 \r\nL 54.109375 2.78125 \r\nQ 49.265625 0.734375 44.1875 -0.34375 \r\nQ 39.109375 -1.421875 33.890625 -1.421875 \r\nQ 20.796875 -1.421875 13.15625 6.1875 \r\nQ 5.515625 13.8125 5.515625 26.8125 \r\nQ 5.515625 40.234375 12.765625 48.109375 \r\nQ 20.015625 56 32.328125 56 \r\nQ 43.359375 56 49.78125 48.890625 \r\nQ 56.203125 41.796875 56.203125 29.59375 \r\nz\r\nM 47.21875 32.234375 \r\nQ 47.125 39.59375 43.09375 43.984375 \r\nQ 39.0625 48.390625 32.421875 48.390625 \r\nQ 24.90625 48.390625 20.390625 44.140625 \r\nQ 15.875 39.890625 15.1875 32.171875 \r\nz\r\n\" id=\"DejaVuSans-101\"/>\r\n       <path id=\"DejaVuSans-32\"/>\r\n       <path d=\"M 34.1875 63.1875 \r\nL 20.796875 26.90625 \r\nL 47.609375 26.90625 \r\nz\r\nM 28.609375 72.90625 \r\nL 39.796875 72.90625 \r\nL 67.578125 0 \r\nL 57.328125 0 \r\nL 50.6875 18.703125 \r\nL 17.828125 18.703125 \r\nL 11.1875 0 \r\nL 0.78125 0 \r\nz\r\n\" id=\"DejaVuSans-65\"/>\r\n      </defs>\r\n      <use xlink:href=\"#DejaVuSans-80\"/>\r\n      <use x=\"58.552734\" xlink:href=\"#DejaVuSans-114\"/>\r\n      <use x=\"97.416016\" xlink:href=\"#DejaVuSans-111\"/>\r\n      <use x=\"158.597656\" xlink:href=\"#DejaVuSans-98\"/>\r\n      <use x=\"222.074219\" xlink:href=\"#DejaVuSans-97\"/>\r\n      <use x=\"283.353516\" xlink:href=\"#DejaVuSans-98\"/>\r\n      <use x=\"346.830078\" xlink:href=\"#DejaVuSans-105\"/>\r\n      <use x=\"374.613281\" xlink:href=\"#DejaVuSans-108\"/>\r\n      <use x=\"402.396484\" xlink:href=\"#DejaVuSans-105\"/>\r\n      <use x=\"430.179688\" xlink:href=\"#DejaVuSans-100\"/>\r\n      <use x=\"493.65625\" xlink:href=\"#DejaVuSans-97\"/>\r\n      <use x=\"554.935547\" xlink:href=\"#DejaVuSans-100\"/>\r\n      <use x=\"618.412109\" xlink:href=\"#DejaVuSans-101\"/>\r\n      <use x=\"679.935547\" xlink:href=\"#DejaVuSans-32\"/>\r\n      <use x=\"711.722656\" xlink:href=\"#DejaVuSans-100\"/>\r\n      <use x=\"775.199219\" xlink:href=\"#DejaVuSans-101\"/>\r\n      <use x=\"836.722656\" xlink:href=\"#DejaVuSans-32\"/>\r\n      <use x=\"868.509766\" xlink:href=\"#DejaVuSans-65\"/>\r\n      <use x=\"935.167969\" xlink:href=\"#DejaVuSans-99\"/>\r\n      <use x=\"990.148438\" xlink:href=\"#DejaVuSans-101\"/>\r\n      <use x=\"1051.671875\" xlink:href=\"#DejaVuSans-114\"/>\r\n      <use x=\"1092.785156\" xlink:href=\"#DejaVuSans-116\"/>\r\n      <use x=\"1131.994141\" xlink:href=\"#DejaVuSans-111\"/>\r\n     </g>\r\n    </g>\r\n   </g>\r\n   <g id=\"line2d_19\">\r\n    <path clip-path=\"url(#p7548cc0611)\" d=\"M 0 0 \r\n\" style=\"fill:none;stroke:#424242;stroke-linecap:square;stroke-width:2.7;\"/>\r\n   </g>\r\n   <g id=\"line2d_20\">\r\n    <path clip-path=\"url(#p7548cc0611)\" d=\"M 0 0 \r\n\" style=\"fill:none;stroke:#424242;stroke-linecap:square;stroke-width:2.7;\"/>\r\n   </g>\r\n   <g id=\"line2d_21\">\r\n    <path clip-path=\"url(#p7548cc0611)\" d=\"M 0 0 \r\n\" style=\"fill:none;stroke:#424242;stroke-linecap:square;stroke-width:2.7;\"/>\r\n   </g>\r\n   <g id=\"line2d_22\">\r\n    <path clip-path=\"url(#p7548cc0611)\" d=\"M 0 0 \r\n\" style=\"fill:none;stroke:#424242;stroke-linecap:square;stroke-width:2.7;\"/>\r\n   </g>\r\n   <g id=\"line2d_23\">\r\n    <path clip-path=\"url(#p7548cc0611)\" d=\"M 0 0 \r\n\" style=\"fill:none;stroke:#424242;stroke-linecap:square;stroke-width:2.7;\"/>\r\n   </g>\r\n   <g id=\"line2d_24\">\r\n    <path clip-path=\"url(#p7548cc0611)\" d=\"M 0 0 \r\n\" style=\"fill:none;stroke:#424242;stroke-linecap:square;stroke-width:2.7;\"/>\r\n   </g>\r\n   <g id=\"line2d_25\">\r\n    <path clip-path=\"url(#p7548cc0611)\" d=\"M 0 0 \r\n\" style=\"fill:none;stroke:#424242;stroke-linecap:square;stroke-width:2.7;\"/>\r\n   </g>\r\n   <g id=\"line2d_26\">\r\n    <path clip-path=\"url(#p7548cc0611)\" d=\"M 0 0 \r\n\" style=\"fill:none;stroke:#424242;stroke-linecap:square;stroke-width:2.7;\"/>\r\n   </g>\r\n   <g id=\"line2d_27\">\r\n    <path clip-path=\"url(#p7548cc0611)\" d=\"M 0 0 \r\n\" style=\"fill:none;stroke:#424242;stroke-linecap:square;stroke-width:2.7;\"/>\r\n   </g>\r\n   <g id=\"line2d_28\">\r\n    <path clip-path=\"url(#p7548cc0611)\" d=\"M 0 0 \r\n\" style=\"fill:none;stroke:#424242;stroke-linecap:square;stroke-width:2.7;\"/>\r\n   </g>\r\n   <g id=\"line2d_29\">\r\n    <path clip-path=\"url(#p7548cc0611)\" d=\"M 0 0 \r\n\" style=\"fill:none;stroke:#424242;stroke-linecap:square;stroke-width:2.7;\"/>\r\n   </g>\r\n   <g id=\"line2d_30\">\r\n    <path clip-path=\"url(#p7548cc0611)\" d=\"M 0 0 \r\n\" style=\"fill:none;stroke:#424242;stroke-linecap:square;stroke-width:2.7;\"/>\r\n   </g>\r\n   <g id=\"patch_15\">\r\n    <path d=\"M 46.965625 348.478125 \r\nL 46.965625 22.318125 \r\n\" style=\"fill:none;stroke:#000000;stroke-linecap:square;stroke-linejoin:miter;stroke-width:0.8;\"/>\r\n   </g>\r\n   <g id=\"patch_16\">\r\n    <path d=\"M 604.965625 348.478125 \r\nL 604.965625 22.318125 \r\n\" style=\"fill:none;stroke:#000000;stroke-linecap:square;stroke-linejoin:miter;stroke-width:0.8;\"/>\r\n   </g>\r\n   <g id=\"patch_17\">\r\n    <path d=\"M 46.965625 348.478125 \r\nL 604.965625 348.478125 \r\n\" style=\"fill:none;stroke:#000000;stroke-linecap:square;stroke-linejoin:miter;stroke-width:0.8;\"/>\r\n   </g>\r\n   <g id=\"patch_18\">\r\n    <path d=\"M 46.965625 22.318125 \r\nL 604.965625 22.318125 \r\n\" style=\"fill:none;stroke:#000000;stroke-linecap:square;stroke-linejoin:miter;stroke-width:0.8;\"/>\r\n   </g>\r\n   <g id=\"text_21\">\r\n    <!-- Probabilidade de Acerto vs Distância -->\r\n    <g transform=\"translate(215.995 16.318125)scale(0.12 -0.12)\">\r\n     <defs>\r\n      <path d=\"M 2.984375 54.6875 \r\nL 12.5 54.6875 \r\nL 29.59375 8.796875 \r\nL 46.6875 54.6875 \r\nL 56.203125 54.6875 \r\nL 35.6875 0 \r\nL 23.484375 0 \r\nz\r\n\" id=\"DejaVuSans-118\"/>\r\n     </defs>\r\n     <use xlink:href=\"#DejaVuSans-80\"/>\r\n     <use x=\"58.552734\" xlink:href=\"#DejaVuSans-114\"/>\r\n     <use x=\"97.416016\" xlink:href=\"#DejaVuSans-111\"/>\r\n     <use x=\"158.597656\" xlink:href=\"#DejaVuSans-98\"/>\r\n     <use x=\"222.074219\" xlink:href=\"#DejaVuSans-97\"/>\r\n     <use x=\"283.353516\" xlink:href=\"#DejaVuSans-98\"/>\r\n     <use x=\"346.830078\" xlink:href=\"#DejaVuSans-105\"/>\r\n     <use x=\"374.613281\" xlink:href=\"#DejaVuSans-108\"/>\r\n     <use x=\"402.396484\" xlink:href=\"#DejaVuSans-105\"/>\r\n     <use x=\"430.179688\" xlink:href=\"#DejaVuSans-100\"/>\r\n     <use x=\"493.65625\" xlink:href=\"#DejaVuSans-97\"/>\r\n     <use x=\"554.935547\" xlink:href=\"#DejaVuSans-100\"/>\r\n     <use x=\"618.412109\" xlink:href=\"#DejaVuSans-101\"/>\r\n     <use x=\"679.935547\" xlink:href=\"#DejaVuSans-32\"/>\r\n     <use x=\"711.722656\" xlink:href=\"#DejaVuSans-100\"/>\r\n     <use x=\"775.199219\" xlink:href=\"#DejaVuSans-101\"/>\r\n     <use x=\"836.722656\" xlink:href=\"#DejaVuSans-32\"/>\r\n     <use x=\"868.509766\" xlink:href=\"#DejaVuSans-65\"/>\r\n     <use x=\"935.167969\" xlink:href=\"#DejaVuSans-99\"/>\r\n     <use x=\"990.148438\" xlink:href=\"#DejaVuSans-101\"/>\r\n     <use x=\"1051.671875\" xlink:href=\"#DejaVuSans-114\"/>\r\n     <use x=\"1092.785156\" xlink:href=\"#DejaVuSans-116\"/>\r\n     <use x=\"1131.994141\" xlink:href=\"#DejaVuSans-111\"/>\r\n     <use x=\"1193.175781\" xlink:href=\"#DejaVuSans-32\"/>\r\n     <use x=\"1224.962891\" xlink:href=\"#DejaVuSans-118\"/>\r\n     <use x=\"1284.142578\" xlink:href=\"#DejaVuSans-115\"/>\r\n     <use x=\"1336.242188\" xlink:href=\"#DejaVuSans-32\"/>\r\n     <use x=\"1368.029297\" xlink:href=\"#DejaVuSans-68\"/>\r\n     <use x=\"1445.03125\" xlink:href=\"#DejaVuSans-105\"/>\r\n     <use x=\"1472.814453\" xlink:href=\"#DejaVuSans-115\"/>\r\n     <use x=\"1524.914062\" xlink:href=\"#DejaVuSans-116\"/>\r\n     <use x=\"1564.123047\" xlink:href=\"#DejaVuSans-226\"/>\r\n     <use x=\"1625.402344\" xlink:href=\"#DejaVuSans-110\"/>\r\n     <use x=\"1688.78125\" xlink:href=\"#DejaVuSans-99\"/>\r\n     <use x=\"1743.761719\" xlink:href=\"#DejaVuSans-105\"/>\r\n     <use x=\"1771.544922\" xlink:href=\"#DejaVuSans-97\"/>\r\n    </g>\r\n   </g>\r\n  </g>\r\n </g>\r\n <defs>\r\n  <clipPath id=\"p7548cc0611\">\r\n   <rect height=\"326.16\" width=\"558\" x=\"46.965625\" y=\"22.318125\"/>\r\n  </clipPath>\r\n </defs>\r\n</svg>\r\n",
      "image/png": "[encoded data removed]"
     },
     "metadata": {
      "needs_background": "light"
     }
    }
   ],
   "source": [
    "x = pd.DataFrame(chute.groupby('distancia_aprox').mean()['conversao']*100).reset_index()\n",
    "display(x)\n",
    "\n",
    "plt.figure(figsize = (10,6))\n",
    "plt.title(\"Probabilidade de Acerto vs Distância\")\n",
    "sns.barplot(x = 'distancia_aprox', y='conversao', data=x, color = 'red')\n",
    "plt.ylabel(\"Probabilidade de Acerto\")\n",
    "plt.xlabel(\"Distância\");\n",
    "\n"
   ]
  },
  {
   "cell_type": "code",
   "execution_count": null,
   "metadata": {},
   "outputs": [],
   "source": []
  }
 ]
}